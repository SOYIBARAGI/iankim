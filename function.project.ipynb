{
 "cells": [
  {
   "cell_type": "markdown",
   "id": "5c5e24f9",
   "metadata": {},
   "source": [
    "# 함수 기본"
   ]
  },
  {
   "cell_type": "code",
   "execution_count": 1,
   "id": "fc419a24",
   "metadata": {},
   "outputs": [],
   "source": [
    "# def 함수명(매개변수1,매개변수2=디폴트값,....)\n",
    "     #실행문1\n",
    "     #실행문2\n",
    "     #...\n",
    "\n",
    "     #return 반환값"
   ]
  },
  {
   "cell_type": "code",
   "execution_count": 3,
   "id": "3f206884",
   "metadata": {},
   "outputs": [],
   "source": [
    "def calcSumProduct(a,b=10):\n",
    "    \n",
    "    plus =a+b\n",
    "    multiple=a*b\n",
    "\n",
    "    return plus,multiple"
   ]
  },
  {
   "cell_type": "code",
   "execution_count": 4,
   "id": "f1bcf203",
   "metadata": {},
   "outputs": [],
   "source": [
    "#함수의 호출 방법\n",
    "#함수명(인수1,인수2...)\n",
    "\n",
    "#변수명 = 함수명(인수1,인수2....)\n",
    "\n",
    "#변수1,변수2.... = 함수명(인수1,인수2,....)"
   ]
  },
  {
   "cell_type": "code",
   "execution_count": null,
   "id": "43dc27b8",
   "metadata": {},
   "outputs": [
    {
     "name": "stdout",
     "output_type": "stream",
     "text": [
      "sum =10, product =21\n"
     ]
    }
   ],
   "source": [
    "sum,product = calcSumProduct(3,7)\n",
    "\n",
    "print(f'{sum =}, {product =}')"
   ]
  },
  {
   "cell_type": "code",
   "execution_count": 7,
   "id": "2ff391af",
   "metadata": {},
   "outputs": [
    {
     "name": "stdout",
     "output_type": "stream",
     "text": [
      "sum =13, product =30\n"
     ]
    }
   ],
   "source": [
    "sum,product = calcSumProduct(3)\n",
    "\n",
    "print(f'{sum =}, {product =}')"
   ]
  },
  {
   "cell_type": "code",
   "execution_count": 8,
   "id": "9b14c1d9",
   "metadata": {},
   "outputs": [
    {
     "name": "stdout",
     "output_type": "stream",
     "text": [
      "sum =10, product =21\n"
     ]
    }
   ],
   "source": [
    "sum,product = calcSumProduct(b=3,a=7)\n",
    "\n",
    "print(f'{sum =}, {product =}')"
   ]
  },
  {
   "cell_type": "code",
   "execution_count": 9,
   "id": "aa593833",
   "metadata": {},
   "outputs": [],
   "source": [
    "# a와 b는 int형으로 지정, 반환값은 int형\n",
    "def calcSumProduct(a:int,b:int=10) -> int:\n",
    "    #함수의 대한 설명을 작성\n",
    "    \"\"\"calcSumProduct 함수는 a와 b를 더한 값과 곱한값을 튜플로 반환하는 함수이다.\"\"\"\n",
    "\n",
    "    #f-string 을 이용하여 a와 b의 값을 출력\n",
    "    print(f'{a=},{b=}')\n",
    "    plus = a+b\n",
    "    multiple=a*b\n",
    "    return plus, multiple"
   ]
  },
  {
   "cell_type": "code",
   "execution_count": 10,
   "id": "f0619ce2",
   "metadata": {},
   "outputs": [
    {
     "name": "stdout",
     "output_type": "stream",
     "text": [
      "Help on function calcSumProduct in module __main__:\n",
      "\n",
      "calcSumProduct(a: int, b: int = 10) -> int\n",
      "    calcSumProduct 함수는 a와 b를 더한 값과 곱한값을 튜플로 반환하는 함수이다.\n",
      "\n"
     ]
    }
   ],
   "source": [
    "help(calcSumProduct)"
   ]
  },
  {
   "cell_type": "code",
   "execution_count": null,
   "id": "3b78873e",
   "metadata": {},
   "outputs": [
    {
     "name": "stdout",
     "output_type": "stream",
     "text": [
      "inputs =(1, 2, 3)\n",
      "sum =6,product =6\n",
      "\n",
      "inputs =(1, 2, 3, 4, 5, 6, 7, 8)\n",
      "sum =36, product =40320\n"
     ]
    }
   ],
   "source": [
    "import numpy as np\n",
    "\n",
    "def calcSumProduct2(*inputs):\n",
    "    \"\"\"calcSumProduct2 함수는 입력의 합과 곱을 튜플로 반환하는 함수이다.\"\"\"\n",
    "    print(f'{inputs =}')\n",
    "\n",
    "    plus = int(np.sum(inputs))\n",
    "    multiple = int(np.prod(inputs))\n",
    "\n",
    "    return plus,multiple\n",
    "\n",
    "sum,product = calcSumProduct2(1,2,3)\n",
    "\n",
    "print(f'{sum =},{product =}\\n')\n",
    "\n",
    "sum,product =calcSumProduct2(1,2,3,4,5,6,7,8)\n",
    "\n",
    "print(f'{sum =}, {product =}')"
   ]
  },
  {
   "cell_type": "code",
   "execution_count": 17,
   "id": "79a85cf5",
   "metadata": {},
   "outputs": [
    {
     "name": "stdout",
     "output_type": "stream",
     "text": [
      "inputs ={'a': 1, 'b': 2}\n",
      "sum =3,product =2\n",
      "\n",
      "inputs ={'a': 1, 'b': 2, 'c': 3, 'd': 4}\n",
      "sum =10,product =24\n"
     ]
    }
   ],
   "source": [
    "import numpy as np\n",
    "\n",
    "def calcSumProduct2(**inputs):\n",
    "    \"\"\"calcsumProduct2 함수는 입력의 합과 곱을 튜플로 반환하는 함수이다.\"\"\"\n",
    "    print(f'{inputs =}')\n",
    "\n",
    "    plus =0\n",
    "    multiple =1\n",
    "\n",
    "    for _, value in inputs.items():\n",
    "\n",
    "        plus+=value\n",
    "\n",
    "        multiple *=value\n",
    "\n",
    "    return plus, multiple\n",
    "\n",
    "sum,product = calcSumProduct2(a=1,b=2)\n",
    "print(f'{sum =},{product =}\\n')\n",
    "\n",
    "sum,product = calcSumProduct2(a=1,b=2,c=3,d=4)\n",
    "print(f'{sum =},{product =}')"
   ]
  },
  {
   "cell_type": "code",
   "execution_count": 19,
   "id": "1ddbe92d",
   "metadata": {},
   "outputs": [
    {
     "name": "stdout",
     "output_type": "stream",
     "text": [
      "var_global ='전역 변수'\n",
      "var_local ='인자는 지역 변수'\n",
      "var_global ='전역 변수'\n",
      "name 'var_local' is not defined\n"
     ]
    }
   ],
   "source": [
    "var_global = '전역 변수'\n",
    "\n",
    "def useGlobalVariable(var_local):\n",
    "\n",
    "    print(f'{var_global =}')\n",
    "    print(f'{var_local =}')\n",
    "\n",
    "useGlobalVariable('인자는 지역 변수')\n",
    "\n",
    "print(f'{var_global =}')\n",
    "\n",
    "try:\n",
    "    print(f'{var_local =}')\n",
    "except NameError as e:\n",
    "    print(e)"
   ]
  },
  {
   "cell_type": "code",
   "execution_count": 21,
   "id": "3d2d0f14",
   "metadata": {},
   "outputs": [
    {
     "name": "stdout",
     "output_type": "stream",
     "text": [
      "var_global ='전역 변수가 아닌 지역변수임'\n",
      "var_local ='인자는 지역 변수'\n",
      "var_global ='전역 변수'\n"
     ]
    }
   ],
   "source": [
    "var_global = '전역 변수'\n",
    "\n",
    "def useGlobalVariable(var_local):\n",
    "    # var_global을 변경하면, 전역변수가 아닌 지역변수로 생성하여 사용됨\n",
    "    #즉, 변수명은 동일하나 서로 다른 변수임\n",
    "    var_global = '전역 변수가 아닌 지역변수임'\n",
    "    print(f'{var_global =}')\n",
    "    print(f'{var_local =}')\n",
    "\n",
    "\n",
    "useGlobalVariable('인자는 지역 변수')\n",
    "print(f'{var_global =}')"
   ]
  },
  {
   "cell_type": "code",
   "execution_count": 22,
   "id": "157b966d",
   "metadata": {},
   "outputs": [
    {
     "name": "stdout",
     "output_type": "stream",
     "text": [
      "var_global ='전역 변수'\n",
      "var_local ='인자는 지역 변수'\n",
      "var_global ='이제는 전역변수임'\n"
     ]
    }
   ],
   "source": [
    "var_global = '전역 변수'\n",
    "\n",
    "def useGlobalVariable(var_local):\n",
    "\n",
    "    global var_global\n",
    "\n",
    "    print(f'{var_global =}')\n",
    "    print(f'{var_local =}')\n",
    "\n",
    "    var_global = '이제는 전역변수임'\n",
    "\n",
    "useGlobalVariable('인자는 지역 변수')\n",
    "\n",
    "print(f'{var_global =}')"
   ]
  },
  {
   "cell_type": "code",
   "execution_count": 23,
   "id": "688a1a99",
   "metadata": {},
   "outputs": [
    {
     "data": {
      "text/plain": [
       "'\\ndef 함수명(매개변수):\\n    return 표현식\\n\\nlambda 매개변수 : 표현식\\n\\n함수명 = lambda 매개변수 : 표현식'"
      ]
     },
     "execution_count": 23,
     "metadata": {},
     "output_type": "execute_result"
    }
   ],
   "source": [
    "'''\n",
    "def 함수명(매개변수):\n",
    "    return 표현식\n",
    "    \n",
    "lambda 매개변수 : 표현식\n",
    "\n",
    "함수명 = lambda 매개변수 : 표현식'''"
   ]
  },
  {
   "cell_type": "code",
   "execution_count": 24,
   "id": "22d4911e",
   "metadata": {},
   "outputs": [
    {
     "data": {
      "text/plain": [
       "15"
      ]
     },
     "execution_count": 24,
     "metadata": {},
     "output_type": "execute_result"
    }
   ],
   "source": [
    "def addTen(x):\n",
    "    return x+10\n",
    "\n",
    "addTen(5)"
   ]
  },
  {
   "cell_type": "code",
   "execution_count": 25,
   "id": "1af682c8",
   "metadata": {},
   "outputs": [
    {
     "data": {
      "text/plain": [
       "<function __main__.<lambda>(x)>"
      ]
     },
     "execution_count": 25,
     "metadata": {},
     "output_type": "execute_result"
    }
   ],
   "source": [
    "lambda x:x+10"
   ]
  },
  {
   "cell_type": "code",
   "execution_count": 26,
   "id": "6a1f991b",
   "metadata": {},
   "outputs": [
    {
     "data": {
      "text/plain": [
       "15"
      ]
     },
     "execution_count": 26,
     "metadata": {},
     "output_type": "execute_result"
    }
   ],
   "source": [
    "(lambda x:x+10)(5)"
   ]
  },
  {
   "cell_type": "code",
   "execution_count": 27,
   "id": "0eead773",
   "metadata": {},
   "outputs": [
    {
     "data": {
      "text/plain": [
       "15"
      ]
     },
     "execution_count": 27,
     "metadata": {},
     "output_type": "execute_result"
    }
   ],
   "source": [
    "addTen = lambda x:x+10\n",
    "\n",
    "addTen(5)"
   ]
  },
  {
   "cell_type": "code",
   "execution_count": 28,
   "id": "9e2d6018",
   "metadata": {},
   "outputs": [
    {
     "data": {
      "text/plain": [
       "115"
      ]
     },
     "execution_count": 28,
     "metadata": {},
     "output_type": "execute_result"
    }
   ],
   "source": [
    "y=100\n",
    "\n",
    "(lambda x: x+y+10)(5)"
   ]
  },
  {
   "cell_type": "code",
   "execution_count": 30,
   "id": "d4617c49",
   "metadata": {},
   "outputs": [
    {
     "data": {
      "text/plain": [
       "'(3의 배수) 9'"
      ]
     },
     "execution_count": 30,
     "metadata": {},
     "output_type": "execute_result"
    }
   ],
   "source": [
    "# x가 3의 배수이면 '(3의 배수) '+str(x)를 반환하고, 아니면 x를 반환하는 람다함수\n",
    "\n",
    "(lambda x : '(3의 배수) '+ str(x) if x%3 == 0 else x)(9)"
   ]
  },
  {
   "cell_type": "code",
   "execution_count": 31,
   "id": "506af9a5",
   "metadata": {},
   "outputs": [
    {
     "data": {
      "text/plain": [
       "8"
      ]
     },
     "execution_count": 31,
     "metadata": {},
     "output_type": "execute_result"
    }
   ],
   "source": [
    "(lambda x : '(3의 배수) '+ str(x) if x%3 == 0 else x)(8)"
   ]
  },
  {
   "cell_type": "code",
   "execution_count": 33,
   "id": "50de5f92",
   "metadata": {},
   "outputs": [
    {
     "data": {
      "text/plain": [
       "'(3의 배수) 9'"
      ]
     },
     "execution_count": 33,
     "metadata": {},
     "output_type": "execute_result"
    }
   ],
   "source": [
    "(lambda x:'(3의 배수) ' +str(x) if x%3==0 else float(x) if x%3==1 else x)(9)"
   ]
  },
  {
   "cell_type": "code",
   "execution_count": 34,
   "id": "b11c1b77",
   "metadata": {},
   "outputs": [
    {
     "data": {
      "text/plain": [
       "7.0"
      ]
     },
     "execution_count": 34,
     "metadata": {},
     "output_type": "execute_result"
    }
   ],
   "source": [
    "(lambda x:'(3의 배수) ' +str(x) if x%3==0 else float(x) if x%3==1 else x)(7)"
   ]
  },
  {
   "cell_type": "code",
   "execution_count": 35,
   "id": "7ec57235",
   "metadata": {},
   "outputs": [
    {
     "data": {
      "text/plain": [
       "5"
      ]
     },
     "execution_count": 35,
     "metadata": {},
     "output_type": "execute_result"
    }
   ],
   "source": [
    "(lambda x:'(3의 배수) ' +str(x) if x%3==0 else float(x) if x%3==1 else x)(5)"
   ]
  },
  {
   "cell_type": "code",
   "execution_count": 36,
   "id": "70a01bd7",
   "metadata": {},
   "outputs": [
    {
     "data": {
      "text/plain": [
       "3"
      ]
     },
     "execution_count": 36,
     "metadata": {},
     "output_type": "execute_result"
    }
   ],
   "source": [
    "(lambda x,y:x if x%3==0 else x+y)(3,4)"
   ]
  },
  {
   "cell_type": "code",
   "execution_count": 37,
   "id": "5bc661ec",
   "metadata": {},
   "outputs": [
    {
     "data": {
      "text/plain": [
       "6"
      ]
     },
     "execution_count": 37,
     "metadata": {},
     "output_type": "execute_result"
    }
   ],
   "source": [
    "(lambda x,y:x if x%3==0 else x+y)(2,4)"
   ]
  },
  {
   "cell_type": "code",
   "execution_count": 38,
   "id": "9a97a759",
   "metadata": {},
   "outputs": [
    {
     "data": {
      "text/plain": [
       "[11, 12, 13]"
      ]
     },
     "execution_count": 38,
     "metadata": {},
     "output_type": "execute_result"
    }
   ],
   "source": [
    "list(map(lambda x:x+10,[1,2,3]))"
   ]
  },
  {
   "cell_type": "code",
   "execution_count": 39,
   "id": "7d5d7448",
   "metadata": {},
   "outputs": [
    {
     "data": {
      "text/plain": [
       "['(3의 배수) 0', 1, 2, '(3의 배수) 3', 4, 5, '(3의 배수) 6', 7, 8, '(3의 배수) 9']"
      ]
     },
     "execution_count": 39,
     "metadata": {},
     "output_type": "execute_result"
    }
   ],
   "source": [
    "ldMultiple3 = lambda x : '(3의 배수) ' + str(x) if x%3==0 else x\n",
    "list(map(ldMultiple3,range(10)))"
   ]
  },
  {
   "cell_type": "code",
   "execution_count": 40,
   "id": "5ff83c5a",
   "metadata": {},
   "outputs": [
    {
     "data": {
      "text/plain": [
       "['(3의 배수) 0', 1.0, 2, '(3의 배수) 3', 4.0, 5, '(3의 배수) 6', 7.0, 8, '(3의 배수) 9']"
      ]
     },
     "execution_count": 40,
     "metadata": {},
     "output_type": "execute_result"
    }
   ],
   "source": [
    "ldMultiple3f = lambda x:'(3의 배수) ' +str(x) if x%3==0 else float(x) if x%3==1 else x\n",
    "list(map(ldMultiple3f,range(10)))"
   ]
  },
  {
   "cell_type": "code",
   "execution_count": 41,
   "id": "3858e053",
   "metadata": {},
   "outputs": [
    {
     "data": {
      "text/plain": [
       "[0, 101, 102, 3, 104, 105, 6, 107, 108, 9]"
      ]
     },
     "execution_count": 41,
     "metadata": {},
     "output_type": "execute_result"
    }
   ],
   "source": [
    "ldMultiple3a = lambda x,y : x if x%3==0 else x+y\n",
    "list(map(ldMultiple3a,range(10),[100]*10))"
   ]
  },
  {
   "cell_type": "markdown",
   "id": "97ccb3ad",
   "metadata": {},
   "source": [
    "# 함수 응용"
   ]
  },
  {
   "cell_type": "code",
   "execution_count": null,
   "id": "12b08e1c",
   "metadata": {},
   "outputs": [
    {
     "name": "stdout",
     "output_type": "stream",
     "text": [
      "True\n",
      "False\n"
     ]
    }
   ],
   "source": [
    "#제곱근 판별기\n",
    "\n",
    "def is_perfect_square(n):\n",
    "    return n == int(n**0.5)**2 #int(n**0.5) 는 입력받은 수를 루트에 넣은 뒤, 소숫점 아래 수를 잘라내는 용도도\n",
    "\n",
    "print(is_perfect_square(25))  # True\n",
    "print(is_perfect_square(26))  # False"
   ]
  },
  {
   "cell_type": "code",
   "execution_count": null,
   "id": "26894dc7",
   "metadata": {},
   "outputs": [
    {
     "name": "stdout",
     "output_type": "stream",
     "text": [
      "[2, 4]\n"
     ]
    }
   ],
   "source": [
    "#짝수만 걸러내기\n",
    "\n",
    "def filter_even(numbers):\n",
    "    return [n for n in numbers if n % 2 == 0]\n",
    "\n",
    "print(filter_even([1, 2, 3, 4, 5])) "
   ]
  },
  {
   "cell_type": "code",
   "execution_count": 44,
   "id": "5d653b6d",
   "metadata": {},
   "outputs": [
    {
     "name": "stdout",
     "output_type": "stream",
     "text": [
      "[1, 4, 9, 16]\n"
     ]
    }
   ],
   "source": [
    "#제곱하기\n",
    "\n",
    "nums = [1, 2, 3, 4]\n",
    "squared = list(map(lambda x: x ** 2, nums))\n",
    "print(squared)  "
   ]
  },
  {
   "cell_type": "code",
   "execution_count": null,
   "id": "8ac996f5",
   "metadata": {},
   "outputs": [],
   "source": []
  }
 ],
 "metadata": {
  "kernelspec": {
   "display_name": "base",
   "language": "python",
   "name": "python3"
  },
  "language_info": {
   "codemirror_mode": {
    "name": "ipython",
    "version": 3
   },
   "file_extension": ".py",
   "mimetype": "text/x-python",
   "name": "python",
   "nbconvert_exporter": "python",
   "pygments_lexer": "ipython3",
   "version": "3.12.9"
  }
 },
 "nbformat": 4,
 "nbformat_minor": 5
}
