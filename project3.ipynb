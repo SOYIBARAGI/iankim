{
 "cells": [
  {
   "cell_type": "markdown",
   "metadata": {},
   "source": [
    "# C521018 김은빈"
   ]
  },
  {
   "cell_type": "markdown",
   "metadata": {},
   "source": [
    "# 3.데이터 연산\n",
    "## 데이터 연산 기본"
   ]
  },
  {
   "cell_type": "code",
   "execution_count": 1,
   "metadata": {},
   "outputs": [
    {
     "name": "stdout",
     "output_type": "stream",
     "text": [
      "2+3 = 5\n",
      "2.0+3 = 5.0\n",
      "2.0+3.0 = 5.0\n",
      "'2'+'3' = '23'\n",
      "unsupported operand type(s) for +: 'int' and 'str'\n"
     ]
    }
   ],
   "source": [
    "print(f'{2+3 = }') # 정수+정수 = 정수\n",
    "print(f'{2.0+3 = }') #실수 + 정수 = 실수\n",
    "print(f'{2.0+3.0 = }')#실수 + 실수 = 실수\n",
    "print(f'{'2'+'3' = }')#문자열 + 문자열 = 문자열\n",
    "\n",
    "#에러 발생\n",
    "try:\n",
    "    print(f'{2+'3' = }') #정수 + 문자열 = 에러\n",
    "except Exception as e:\n",
    "    print(e)"
   ]
  },
  {
   "cell_type": "code",
   "execution_count": 2,
   "metadata": {},
   "outputs": [
    {
     "name": "stdout",
     "output_type": "stream",
     "text": [
      "2-3 =-1\n",
      "2.0-3=-1.0\n",
      "2.0-3.0=-1.0\n",
      "2*3=6\n",
      "6.0\n",
      "2.0*3.0=6.0\n",
      "2/3 =0.6666666666666666\n",
      "2.0/3 =0.6666666666666666\n",
      "2.0/3.0 =0.6666666666666666\n"
     ]
    }
   ],
   "source": [
    "print(f'{2-3 =}') #정수 - 정수 = 정수\n",
    "print(f'{2.0-3=}')#실수 - 정수 = 실수\n",
    "print(f'{2.0-3.0=}')#실수 - 실수 = 실수\n",
    "print(f'{2*3=}')#정수*정수 = 정수\n",
    "print(f'{2.0*3}')#실수*정수 = 실수\n",
    "print(f'{2.0*3.0=}')#실수 * 실수 = 실수\n",
    "print(f'{2/3 =}')# 정수/정수 = 실수\n",
    "print(f'{2.0/3 =}')#실수/정수 = 실수\n",
    "print(f'{2.0/3.0 =}')#실수/실수 = 실수\n"
   ]
  },
  {
   "cell_type": "code",
   "execution_count": 3,
   "metadata": {},
   "outputs": [
    {
     "name": "stdout",
     "output_type": "stream",
     "text": [
      "20//3 =6\n",
      "20%3 =2\n",
      "2**3=8\n"
     ]
    }
   ],
   "source": [
    "#몫\n",
    "\n",
    "print(f'{20//3 =}')\n",
    "\n",
    "#나머지 \n",
    "print(f'{20%3 =}')\n",
    "\n",
    "#거듭제곱\n",
    "print(f'{2**3=}')\n"
   ]
  },
  {
   "cell_type": "code",
   "execution_count": 4,
   "metadata": {},
   "outputs": [
    {
     "name": "stdout",
     "output_type": "stream",
     "text": [
      "var_x + var_x = 'AbcAbc'\n",
      "var_y + var_y = [100, 2, 3, 100, 2, 3]\n",
      "var_x*3 ='AbcAbcAbc'\n",
      "var_y*3 = [100, 2, 3, 100, 2, 3, 100, 2, 3]\n"
     ]
    }
   ],
   "source": [
    "var_x='Abc'\n",
    "var_y=[100,2,3]\n",
    "\n",
    "#문자열과 문자열의 합\n",
    "print(f'{var_x + var_x = }')\n",
    "\n",
    "#리스트와 리스트의 합\n",
    "print(f'{var_y + var_y = }')\n",
    "\n",
    "#문자열과 정수의 곱\n",
    "print(f'{var_x*3 =}')\n",
    "\n",
    "#리스트와 정수의 곱\n",
    "print(f'{var_y*3 = }')\n"
   ]
  },
  {
   "cell_type": "code",
   "execution_count": 5,
   "metadata": {},
   "outputs": [
    {
     "name": "stdout",
     "output_type": "stream",
     "text": [
      "2 == 3 =False\n",
      "2 != 3 =True\n",
      "2>3 =False\n",
      "2 < 3 =True\n",
      "2>=3 =False\n",
      "2<=3 =True\n"
     ]
    }
   ],
   "source": [
    "#관계연산자\n",
    "\n",
    "print(f'{2 == 3 =}')\n",
    "\n",
    "print(f'{2 != 3 =}')\n",
    "\n",
    "print(f'{2>3 =}')\n",
    "\n",
    "print(f'{2 < 3 =}')\n",
    "\n",
    "print(f'{2>=3 =}')\n",
    "\n",
    "print(f'{2<=3 =}')\n",
    "\n"
   ]
  },
  {
   "cell_type": "code",
   "execution_count": 6,
   "metadata": {},
   "outputs": [
    {
     "name": "stdout",
     "output_type": "stream",
     "text": [
      "(var_y == [1,2,3]) =True\n",
      "(var_y == (1,2,3)) =False\n",
      "(var_y == [1,2]) =False\n",
      "(var_y != [1,2]) =True\n",
      "(var_y > [1,2]) =True\n",
      "(var_y < [1,2]) =False\n"
     ]
    }
   ],
   "source": [
    "var_y = [1,2,3]\n",
    "\n",
    "print(f'{(var_y == [1,2,3]) =}')\n",
    "print(f'{(var_y == (1,2,3)) =}')\n",
    "print(f'{(var_y == [1,2]) =}')\n",
    "print(f'{(var_y != [1,2]) =}')\n",
    "print(f'{(var_y > [1,2]) =}')\n",
    "print(f'{(var_y < [1,2]) =}')\n",
    "\n",
    "\n",
    "\n"
   ]
  },
  {
   "cell_type": "code",
   "execution_count": 7,
   "metadata": {},
   "outputs": [
    {
     "data": {
      "text/plain": [
       "True"
      ]
     },
     "execution_count": 7,
     "metadata": {},
     "output_type": "execute_result"
    }
   ],
   "source": [
    "True and True"
   ]
  },
  {
   "cell_type": "code",
   "execution_count": 8,
   "metadata": {},
   "outputs": [
    {
     "name": "stdout",
     "output_type": "stream",
     "text": [
      "var_y =False\n",
      "(var_x and var_y) =False\n",
      "(var_x or var_y) =True\n",
      "(not var_x) =False\n"
     ]
    }
   ],
   "source": [
    "var_x = True\n",
    "\n",
    "var_y = (10>20)\n",
    "\n",
    "print(f'{var_y =}')\n",
    "print(f'{(var_x and var_y) =}')\n",
    "print(f'{(var_x or var_y) =}')\n",
    "print(f'{(not var_x) =}')"
   ]
  },
  {
   "cell_type": "code",
   "execution_count": 9,
   "metadata": {},
   "outputs": [
    {
     "name": "stdout",
     "output_type": "stream",
     "text": [
      "(2==3) and (2!=3) =False\n"
     ]
    }
   ],
   "source": [
    "print(f'{(2==3) and (2!=3) =}')"
   ]
  },
  {
   "cell_type": "code",
   "execution_count": 10,
   "metadata": {},
   "outputs": [
    {
     "name": "stdout",
     "output_type": "stream",
     "text": [
      "(1 in var_y) =True\n",
      "('1' in var_y) =False\n",
      "(4 in var_y) =False\n",
      "(1 not in var_y) =False\n",
      "(4 not in var_y) =True\n"
     ]
    }
   ],
   "source": [
    "var_y = [1,2,3]\n",
    "\n",
    "print(f'{(1 in var_y) =}')\n",
    "print(f'{('1' in var_y) =}')\n",
    "print(f'{(4 in var_y) =}')\n",
    "print(f'{(1 not in var_y) =}')\n",
    "print(f'{(4 not in var_y) =}')"
   ]
  },
  {
   "cell_type": "code",
   "execution_count": 11,
   "metadata": {},
   "outputs": [
    {
     "name": "stdout",
     "output_type": "stream",
     "text": [
      "(var_x == 10) =True\n",
      "(var_x is 10) =True\n"
     ]
    },
    {
     "name": "stderr",
     "output_type": "stream",
     "text": [
      "<>:5: SyntaxWarning: \"is\" with 'int' literal. Did you mean \"==\"?\n",
      "<>:5: SyntaxWarning: \"is\" with 'int' literal. Did you mean \"==\"?\n",
      "C:\\Users\\coloi\\AppData\\Local\\Temp\\ipykernel_9532\\1389763990.py:5: SyntaxWarning: \"is\" with 'int' literal. Did you mean \"==\"?\n",
      "  print(f'{(var_x is 10) =}')\n"
     ]
    }
   ],
   "source": [
    "var_x = 10\n",
    "\n",
    "print(f'{(var_x == 10) =}')\n",
    "\n",
    "print(f'{(var_x is 10) =}')"
   ]
  },
  {
   "cell_type": "code",
   "execution_count": 12,
   "metadata": {},
   "outputs": [
    {
     "name": "stdout",
     "output_type": "stream",
     "text": [
      "(var_x is var_y) =False\n",
      "(var_x is var_z) =True\n",
      "(var_x is not var_y) =True\n",
      "(var_x is not var_z) =False\n"
     ]
    }
   ],
   "source": [
    "var_x = 10\n",
    "var_y = 10.0\n",
    "var_z = var_x\n",
    "\n",
    "print(f'{(var_x is var_y) =}')\n",
    "print(f'{(var_x is var_z) =}')\n",
    "print(f'{(var_x is not var_y) =}')\n",
    "print(f'{(var_x is not var_z) =}')"
   ]
  },
  {
   "cell_type": "code",
   "execution_count": 13,
   "metadata": {},
   "outputs": [
    {
     "name": "stdout",
     "output_type": "stream",
     "text": [
      "2\n"
     ]
    }
   ],
   "source": [
    "var_x = 1\n",
    "\n",
    "var_x += 1\n",
    "\n",
    "print(var_x)"
   ]
  },
  {
   "cell_type": "code",
   "execution_count": 14,
   "metadata": {},
   "outputs": [
    {
     "name": "stdout",
     "output_type": "stream",
     "text": [
      "11\n",
      "10\n",
      "20\n",
      "10.0\n",
      "5.0\n",
      "1.0\n",
      "1.0\n"
     ]
    }
   ],
   "source": [
    "var_x = 1\n",
    "\n",
    "var_x += 10; print(var_x)\n",
    "var_x -= 1; print(var_x)\n",
    "var_x *= 2; print(var_x)\n",
    "var_x /= 2; print(var_x)\n",
    "var_x //=2; print(var_x)\n",
    "var_x %= 2; print(var_x)\n",
    "var_x **= 2; print(var_x)\n"
   ]
  },
  {
   "cell_type": "code",
   "execution_count": 15,
   "metadata": {},
   "outputs": [
    {
     "name": "stdout",
     "output_type": "stream",
     "text": [
      "13\n",
      "256\n",
      "True\n",
      "False\n",
      "False\n"
     ]
    }
   ],
   "source": [
    "print(2**3+5)\n",
    "print(2**(3+5))\n",
    "print(2+3<=4*5)\n",
    "print(not 2+3 <= 4*5)\n",
    "print(not ((2+3) <= (4*5)))\n"
   ]
  },
  {
   "cell_type": "markdown",
   "metadata": {},
   "source": [
    "## 데이터 연산 응용"
   ]
  },
  {
   "cell_type": "code",
   "execution_count": 16,
   "metadata": {},
   "outputs": [
    {
     "name": "stdout",
     "output_type": "stream",
     "text": [
      "abcdefghij\n",
      "24690.0\n",
      "[1, 2, 3, 4, 5, 6]\n",
      "(1, 2, 3, 4, 5, 6)\n",
      "[1, 3, 4, 2, 5, 6]\n",
      "37035\n",
      "(1, 2, 3, 1, 2, 3, 1, 2, 3)\n",
      "abcdeabcdeabcde\n"
     ]
    }
   ],
   "source": [
    "#문자열의 연산, 리스트, 튜플의 연산\n",
    "\n",
    "print('abcde'+'fghij')\n",
    "print(12345+12345.0)\n",
    "print([1,2,3]+[4,5,6])\n",
    "print((1,2,3)+(4,5,6))\n",
    "print([1,3,4]+[2,5,6])\n",
    "print(12345*3)\n",
    "print((1,2,3)*3)\n",
    "print('abcde'*3)"
   ]
  }
 ],
 "metadata": {
  "kernelspec": {
   "display_name": "base",
   "language": "python",
   "name": "python3"
  },
  "language_info": {
   "codemirror_mode": {
    "name": "ipython",
    "version": 3
   },
   "file_extension": ".py",
   "mimetype": "text/x-python",
   "name": "python",
   "nbconvert_exporter": "python",
   "pygments_lexer": "ipython3",
   "version": "3.12.9"
  }
 },
 "nbformat": 4,
 "nbformat_minor": 2
}
