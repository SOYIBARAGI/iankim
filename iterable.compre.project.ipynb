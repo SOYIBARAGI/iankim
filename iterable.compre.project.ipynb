{
 "cells": [
  {
   "cell_type": "markdown",
   "id": "6d592a06",
   "metadata": {},
   "source": [
    "# C521018 김은빈"
   ]
  },
  {
   "cell_type": "markdown",
   "id": "ec9a97c6",
   "metadata": {},
   "source": [
    "# iteralbe 컴프리헨션 기본"
   ]
  },
  {
   "cell_type": "code",
   "execution_count": 1,
   "id": "b9b95193",
   "metadata": {},
   "outputs": [
    {
     "name": "stdout",
     "output_type": "stream",
     "text": [
      "nums_comp =[11, 12, 13, 14, 15]\n"
     ]
    }
   ],
   "source": [
    "nums_comp = [num+10 for num in range(1,6)]\n",
    "print(f'{nums_comp =}')"
   ]
  },
  {
   "cell_type": "code",
   "execution_count": 2,
   "id": "d1cfb2eb",
   "metadata": {},
   "outputs": [
    {
     "name": "stdout",
     "output_type": "stream",
     "text": [
      "nums_for =[11, 12, 13, 14, 15]\n"
     ]
    }
   ],
   "source": [
    "nums_for =[]\n",
    "\n",
    "for num in range(1,6):\n",
    "\n",
    "    nums_for.append(num+10)\n",
    "\n",
    "print(f'{nums_for =}')"
   ]
  },
  {
   "cell_type": "code",
   "execution_count": 3,
   "id": "b5a5e9db",
   "metadata": {},
   "outputs": [
    {
     "data": {
      "text/plain": [
       "15"
      ]
     },
     "execution_count": 3,
     "metadata": {},
     "output_type": "execute_result"
    }
   ],
   "source": [
    "def add_ten(num):\n",
    "    return num+10\n",
    "\n",
    "add_ten(5)"
   ]
  },
  {
   "cell_type": "code",
   "execution_count": 4,
   "id": "5645ba52",
   "metadata": {},
   "outputs": [
    {
     "data": {
      "text/plain": [
       "<map at 0x1e7e88ba4d0>"
      ]
     },
     "execution_count": 4,
     "metadata": {},
     "output_type": "execute_result"
    }
   ],
   "source": [
    "map(add_ten,[1,2,3,4,5])"
   ]
  },
  {
   "cell_type": "code",
   "execution_count": 5,
   "id": "f66b0c81",
   "metadata": {},
   "outputs": [
    {
     "data": {
      "text/plain": [
       "[11, 12, 13, 14, 15]"
      ]
     },
     "execution_count": 5,
     "metadata": {},
     "output_type": "execute_result"
    }
   ],
   "source": [
    "list(map(add_ten,[1,2,3,4,5]))"
   ]
  },
  {
   "cell_type": "code",
   "execution_count": 6,
   "id": "a3f01bbb",
   "metadata": {},
   "outputs": [
    {
     "name": "stdout",
     "output_type": "stream",
     "text": [
      "nums_map =[11, 12, 13, 14, 15]\n"
     ]
    }
   ],
   "source": [
    "nums_map = list(map(add_ten,range(1,6)))\n",
    "print(f'{nums_map =}')"
   ]
  },
  {
   "cell_type": "code",
   "execution_count": 7,
   "id": "77a990f4",
   "metadata": {},
   "outputs": [
    {
     "name": "stdout",
     "output_type": "stream",
     "text": [
      "nums_math =[1, 3, 5, 7, 9]\n"
     ]
    }
   ],
   "source": [
    "nums_math = [num*2 -1 for num in range(1,6)]\n",
    "print(f'{nums_math =}')"
   ]
  },
  {
   "cell_type": "code",
   "execution_count": 8,
   "id": "70526338",
   "metadata": {},
   "outputs": [
    {
     "name": "stdout",
     "output_type": "stream",
     "text": [
      "nums_func =['Int_1', 'Int_2', 'Int_3', 'Int_4', 'Int_5']\n"
     ]
    }
   ],
   "source": [
    "def addString(x):\n",
    "    return 'Int_'+ str(x)\n",
    "nums_func =[addString(num) for num in range(1,6)]\n",
    "print(f'{nums_func =}')"
   ]
  },
  {
   "cell_type": "code",
   "execution_count": 9,
   "id": "35f4bdc1",
   "metadata": {},
   "outputs": [
    {
     "name": "stdout",
     "output_type": "stream",
     "text": [
      "nums_odds =[1, 3, 5]\n"
     ]
    }
   ],
   "source": [
    "nums_odds = [num for num in range(1,6) if num % 2 == 1]\n",
    "print(f'{nums_odds =}')"
   ]
  },
  {
   "cell_type": "code",
   "execution_count": 10,
   "id": "feb7bf9b",
   "metadata": {},
   "outputs": [
    {
     "name": "stdout",
     "output_type": "stream",
     "text": [
      "nums_odds_zero =[1, 0, 3, 0, 5]\n"
     ]
    }
   ],
   "source": [
    "nums_odds_zero =[ num if num % 2 == 1 else 0 for num in range(1,6)]\n",
    "print(f'{nums_odds_zero =}')"
   ]
  },
  {
   "cell_type": "code",
   "execution_count": 11,
   "id": "284146f8",
   "metadata": {},
   "outputs": [
    {
     "name": "stdout",
     "output_type": "stream",
     "text": [
      "nums_odds_less4 = [1, 3]\n"
     ]
    }
   ],
   "source": [
    "nums_odds_less4 = [ num for num in range(1,6) if num % 2 == 1 if num < 4]\n",
    "print(f'{nums_odds_less4 = }')"
   ]
  },
  {
   "cell_type": "code",
   "execution_count": 12,
   "id": "aa99ed4b",
   "metadata": {},
   "outputs": [
    {
     "name": "stdout",
     "output_type": "stream",
     "text": [
      "nums_pairs =[(1, 'a'), (1, 'b'), (1, 'c'), (2, 'a'), (2, 'b'), (2, 'c')]\n"
     ]
    }
   ],
   "source": [
    "nums_pairs = [ (x,y) for x in range(1,3) for y in ['a','b','c']]\n",
    "print(f'{nums_pairs =}')"
   ]
  },
  {
   "cell_type": "code",
   "execution_count": 13,
   "id": "fbfa6d16",
   "metadata": {},
   "outputs": [
    {
     "name": "stdout",
     "output_type": "stream",
     "text": [
      "num_pairs_sum5 =[(1, 4), (2, 3), (3, 2), (4, 1)]\n"
     ]
    }
   ],
   "source": [
    "num_pairs_sum5 = [ (x,y) for x in range(1,6) for y in range(1,6) if x+y ==5]\n",
    "print(f'{num_pairs_sum5 =}')"
   ]
  },
  {
   "cell_type": "code",
   "execution_count": null,
   "id": "1e1866e6",
   "metadata": {},
   "outputs": [
    {
     "name": "stdout",
     "output_type": "stream",
     "text": [
      "students_for ={1: '최딕션', 2: '최딕션', 3: '최딕션', 4: '최딕션'}\n"
     ]
    }
   ],
   "source": [
    "ids = [1,2,3,4]\n",
    "student_names = ['김홍익','이컴프리','박헨션','최딕션']\n",
    "\n",
    "students_for = {id:name for id in ids for name in student_names} # 중첩된 for문으로는 정상적인 딕셔너리 생성 불가\n",
    "\n",
    "print(f'{students_for =}')"
   ]
  },
  {
   "cell_type": "code",
   "execution_count": 15,
   "id": "89e1eba2",
   "metadata": {},
   "outputs": [
    {
     "name": "stdout",
     "output_type": "stream",
     "text": [
      "students_enumerate ={0: '김홍익', 1: '이컴프리', 2: '박헨션', 3: '최딕션'}\n"
     ]
    }
   ],
   "source": [
    "students_enumerate ={id:name for id,name in enumerate(student_names)}\n",
    "print(f'{students_enumerate =}')"
   ]
  },
  {
   "cell_type": "code",
   "execution_count": 16,
   "id": "4a2572a2",
   "metadata": {},
   "outputs": [
    {
     "name": "stdout",
     "output_type": "stream",
     "text": [
      "students_zip = {1: '김홍익', 2: '이컴프리', 3: '박헨션', 4: '최딕션'}\n"
     ]
    }
   ],
   "source": [
    "ids = [1,2,3,4]\n",
    "student_names = ['김홍익','이컴프리','박헨션','최딕션']\n",
    "\n",
    "students_zip ={id:name for id,name in zip(ids, student_names)}\n",
    "print(f'{students_zip = }')"
   ]
  },
  {
   "cell_type": "code",
   "execution_count": 17,
   "id": "a11ea86d",
   "metadata": {},
   "outputs": [
    {
     "name": "stdout",
     "output_type": "stream",
     "text": [
      "sum_list =[2, 3, 4, 5, 6, 3, 4, 5, 6, 7, 4, 5, 6, 7, 8, 5, 6, 7, 8, 9, 6, 7, 8, 9, 10]\n",
      "\n",
      "sum_set ={2, 3, 4, 5, 6, 7, 8, 9, 10}\n"
     ]
    }
   ],
   "source": [
    "sum_list = [x+y for x in range(1, 6) for y in range(1, 6)]\n",
    "\n",
    "print(f'{sum_list =}\\n')\n",
    "\n",
    "sum_set = {x+y for x in range(1,6) for y in range(1,6)}\n",
    "\n",
    "print(f'{sum_set =}')\n"
   ]
  },
  {
   "cell_type": "code",
   "execution_count": null,
   "id": "78b5b324",
   "metadata": {},
   "outputs": [
    {
     "name": "stdout",
     "output_type": "stream",
     "text": [
      "nums_pairs_list =[(1, 'a'), (1, 'b'), (1, 'c'), (2, 'a'), (2, 'b'), (2, 'c')]\n",
      "\n",
      "nums_pairs_tuple = <generator object <genexpr> at 0x000001E7E8985540>\n",
      "tuple(nums_pairs_tuple) = ((1, 'a'), (1, 'b'), (1, 'c'), (2, 'a'), (2, 'b'), (2, 'c'))\n",
      "\n",
      "nums_pairs_tuple2 = ((1, 'a'), (1, 'b'), (1, 'c'), (2, 'a'), (2, 'b'), (2, 'c'))\n"
     ]
    }
   ],
   "source": [
    "nums_pairs_list = [(x,y) for x in range(1, 3) for y in ['a', 'b', 'c']]\n",
    "\n",
    "print(f'{nums_pairs_list =}\\n')\n",
    "\n",
    "nums_pairs_tuple = ((x,y) for x in range(1, 3) for y in ['a', 'b', 'c']) # () : 제네레이터 생성 => 아직 값 X \n",
    "\n",
    "print(f'{nums_pairs_tuple = }')\n",
    "\n",
    "print(f'{tuple(nums_pairs_tuple) = }\\n') # tuple ( () ) : 제네레이터를 tuple()로 감쌈 => 튜플로 출력 가능\n",
    "\n",
    "nums_pairs_tuple2 = tuple((x,y) for x in range(1, 3) for y in ['a','b','c']) # 위 과정을 한 번에 수행\n",
    "\n",
    "print(f'{nums_pairs_tuple2 = }')\n"
   ]
  },
  {
   "cell_type": "markdown",
   "id": "c089ada3",
   "metadata": {},
   "source": [
    "# iterable 컴프리헨션 응용"
   ]
  },
  {
   "cell_type": "code",
   "execution_count": 21,
   "id": "d1f744ca",
   "metadata": {},
   "outputs": [
    {
     "name": "stdout",
     "output_type": "stream",
     "text": [
      "{'Alice': 5, 'Bob': 3, 'Charlie': 7}\n"
     ]
    }
   ],
   "source": [
    "names = ['Alice', 'Bob', 'Charlie']\n",
    "name_lengths = {name: len(name) for name in names}\n",
    "print(name_lengths)\n",
    "\n",
    "# 이름 리스트를 이름 : 길이 딕셔너리로 변환\n"
   ]
  },
  {
   "cell_type": "code",
   "execution_count": 24,
   "id": "fa3f3892",
   "metadata": {},
   "outputs": [
    {
     "name": "stdout",
     "output_type": "stream",
     "text": [
      "['odd', 'even', 'odd', 'even', 'odd']\n"
     ]
    }
   ],
   "source": [
    "nums = [1, 2, 3, 4, 5]\n",
    "labels = ['even' if x % 2 == 0 else 'odd' for x in nums]\n",
    "print(labels)\n",
    "\n",
    "# 짝수, 홀수로 나누기"
   ]
  },
  {
   "cell_type": "code",
   "execution_count": 26,
   "id": "06280415",
   "metadata": {},
   "outputs": [
    {
     "name": "stdout",
     "output_type": "stream",
     "text": [
      "[False, True, False, True, False]\n"
     ]
    }
   ],
   "source": [
    "numbers = [5, 12, 7, 18, 3]\n",
    "is_even = [n % 2 == 0 for n in numbers]\n",
    "print(is_even)\n",
    "\n",
    "# 숫자가 짝수인지 아닌지 판별하기\n"
   ]
  }
 ],
 "metadata": {
  "kernelspec": {
   "display_name": "base",
   "language": "python",
   "name": "python3"
  },
  "language_info": {
   "codemirror_mode": {
    "name": "ipython",
    "version": 3
   },
   "file_extension": ".py",
   "mimetype": "text/x-python",
   "name": "python",
   "nbconvert_exporter": "python",
   "pygments_lexer": "ipython3",
   "version": "3.12.9"
  }
 },
 "nbformat": 4,
 "nbformat_minor": 5
}
