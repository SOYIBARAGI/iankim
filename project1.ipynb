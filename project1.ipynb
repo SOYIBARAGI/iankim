{
 "cells": [
  {
   "cell_type": "markdown",
   "metadata": {},
   "source": [
    "# C521018 김은빈"
   ]
  },
  {
   "cell_type": "markdown",
   "metadata": {},
   "source": [
    "# 1.변수와 입출력\n",
    "\n",
    "## 변수와 입출력 기본"
   ]
  },
  {
   "cell_type": "code",
   "execution_count": 1,
   "metadata": {},
   "outputs": [
    {
     "name": "stdout",
     "output_type": "stream",
     "text": [
      "산업·데이터공학\n",
      "3100031623904\n"
     ]
    }
   ],
   "source": [
    "var_x='산업·데이터공학'\n",
    "\n",
    "print(var_x)\n",
    "\n",
    "print(id(var_x))\n"
   ]
  },
  {
   "cell_type": "code",
   "execution_count": 2,
   "metadata": {},
   "outputs": [
    {
     "name": "stdout",
     "output_type": "stream",
     "text": [
      "산업·데이터공학과\n",
      "3100031616064\n"
     ]
    }
   ],
   "source": [
    "var_y = '산업·데이터공학과'\n",
    "\n",
    "print(var_y)\n",
    "print(id(var_y))\n"
   ]
  },
  {
   "cell_type": "code",
   "execution_count": 3,
   "metadata": {},
   "outputs": [
    {
     "data": {
      "application/json": {
       "cell": {
        "!": "OSMagics",
        "HTML": "Other",
        "SVG": "Other",
        "bash": "Other",
        "capture": "ExecutionMagics",
        "cmd": "Other",
        "code_wrap": "ExecutionMagics",
        "debug": "ExecutionMagics",
        "file": "Other",
        "html": "DisplayMagics",
        "javascript": "DisplayMagics",
        "js": "DisplayMagics",
        "latex": "DisplayMagics",
        "markdown": "DisplayMagics",
        "perl": "Other",
        "prun": "ExecutionMagics",
        "pypy": "Other",
        "python": "Other",
        "python2": "Other",
        "python3": "Other",
        "ruby": "Other",
        "script": "ScriptMagics",
        "sh": "Other",
        "svg": "DisplayMagics",
        "sx": "OSMagics",
        "system": "OSMagics",
        "time": "ExecutionMagics",
        "timeit": "ExecutionMagics",
        "writefile": "OSMagics"
       },
       "line": {
        "alias": "OSMagics",
        "alias_magic": "BasicMagics",
        "autoawait": "AsyncMagics",
        "autocall": "AutoMagics",
        "automagic": "AutoMagics",
        "autosave": "KernelMagics",
        "bookmark": "OSMagics",
        "cd": "OSMagics",
        "clear": "KernelMagics",
        "cls": "KernelMagics",
        "code_wrap": "ExecutionMagics",
        "colors": "BasicMagics",
        "conda": "PackagingMagics",
        "config": "ConfigMagics",
        "connect_info": "KernelMagics",
        "copy": "Other",
        "ddir": "Other",
        "debug": "ExecutionMagics",
        "dhist": "OSMagics",
        "dirs": "OSMagics",
        "doctest_mode": "BasicMagics",
        "echo": "Other",
        "ed": "Other",
        "edit": "KernelMagics",
        "env": "OSMagics",
        "gui": "BasicMagics",
        "hist": "Other",
        "history": "HistoryMagics",
        "killbgscripts": "ScriptMagics",
        "ldir": "Other",
        "less": "KernelMagics",
        "load": "CodeMagics",
        "load_ext": "ExtensionMagics",
        "loadpy": "CodeMagics",
        "logoff": "LoggingMagics",
        "logon": "LoggingMagics",
        "logstart": "LoggingMagics",
        "logstate": "LoggingMagics",
        "logstop": "LoggingMagics",
        "ls": "Other",
        "lsmagic": "BasicMagics",
        "macro": "ExecutionMagics",
        "magic": "BasicMagics",
        "mamba": "PackagingMagics",
        "matplotlib": "PylabMagics",
        "micromamba": "PackagingMagics",
        "mkdir": "Other",
        "more": "KernelMagics",
        "notebook": "BasicMagics",
        "page": "BasicMagics",
        "pastebin": "CodeMagics",
        "pdb": "ExecutionMagics",
        "pdef": "NamespaceMagics",
        "pdoc": "NamespaceMagics",
        "pfile": "NamespaceMagics",
        "pinfo": "NamespaceMagics",
        "pinfo2": "NamespaceMagics",
        "pip": "PackagingMagics",
        "popd": "OSMagics",
        "pprint": "BasicMagics",
        "precision": "BasicMagics",
        "prun": "ExecutionMagics",
        "psearch": "NamespaceMagics",
        "psource": "NamespaceMagics",
        "pushd": "OSMagics",
        "pwd": "OSMagics",
        "pycat": "OSMagics",
        "pylab": "PylabMagics",
        "qtconsole": "KernelMagics",
        "quickref": "BasicMagics",
        "recall": "HistoryMagics",
        "rehashx": "OSMagics",
        "reload_ext": "ExtensionMagics",
        "ren": "Other",
        "rep": "Other",
        "rerun": "HistoryMagics",
        "reset": "NamespaceMagics",
        "reset_selective": "NamespaceMagics",
        "rmdir": "Other",
        "run": "ExecutionMagics",
        "save": "CodeMagics",
        "sc": "OSMagics",
        "set_env": "OSMagics",
        "store": "StoreMagics",
        "sx": "OSMagics",
        "system": "OSMagics",
        "tb": "ExecutionMagics",
        "time": "ExecutionMagics",
        "timeit": "ExecutionMagics",
        "unalias": "OSMagics",
        "unload_ext": "ExtensionMagics",
        "uv": "PackagingMagics",
        "who": "NamespaceMagics",
        "who_ls": "NamespaceMagics",
        "whos": "NamespaceMagics",
        "xdel": "NamespaceMagics",
        "xmode": "BasicMagics"
       }
      },
      "text/plain": [
       "Available line magics:\n",
       "%alias  %alias_magic  %autoawait  %autocall  %automagic  %autosave  %bookmark  %cd  %clear  %cls  %code_wrap  %colors  %conda  %config  %connect_info  %copy  %ddir  %debug  %dhist  %dirs  %doctest_mode  %echo  %ed  %edit  %env  %gui  %hist  %history  %killbgscripts  %ldir  %less  %load  %load_ext  %loadpy  %logoff  %logon  %logstart  %logstate  %logstop  %ls  %lsmagic  %macro  %magic  %mamba  %matplotlib  %micromamba  %mkdir  %more  %notebook  %page  %pastebin  %pdb  %pdef  %pdoc  %pfile  %pinfo  %pinfo2  %pip  %popd  %pprint  %precision  %prun  %psearch  %psource  %pushd  %pwd  %pycat  %pylab  %qtconsole  %quickref  %recall  %rehashx  %reload_ext  %ren  %rep  %rerun  %reset  %reset_selective  %rmdir  %run  %save  %sc  %set_env  %store  %sx  %system  %tb  %time  %timeit  %unalias  %unload_ext  %uv  %who  %who_ls  %whos  %xdel  %xmode\n",
       "\n",
       "Available cell magics:\n",
       "%%!  %%HTML  %%SVG  %%bash  %%capture  %%cmd  %%code_wrap  %%debug  %%file  %%html  %%javascript  %%js  %%latex  %%markdown  %%perl  %%prun  %%pypy  %%python  %%python2  %%python3  %%ruby  %%script  %%sh  %%svg  %%sx  %%system  %%time  %%timeit  %%writefile\n",
       "\n",
       "Automagic is ON, % prefix IS NOT needed for line magics."
      ]
     },
     "execution_count": 3,
     "metadata": {},
     "output_type": "execute_result"
    }
   ],
   "source": [
    "%lsmagic"
   ]
  },
  {
   "cell_type": "code",
   "execution_count": 4,
   "metadata": {},
   "outputs": [
    {
     "data": {
      "text/plain": [
       "'c:\\\\Users\\\\coloi\\\\OneDrive\\\\바탕 화면\\\\김은빈파이썬'"
      ]
     },
     "execution_count": 4,
     "metadata": {},
     "output_type": "execute_result"
    }
   ],
   "source": [
    "%pwd"
   ]
  },
  {
   "cell_type": "code",
   "execution_count": 5,
   "metadata": {},
   "outputs": [
    {
     "name": "stdout",
     "output_type": "stream",
     "text": [
      " C ����̺��� ����: OS\n",
      " ���� �Ϸ� ��ȣ: 8A8F-0F6B\n",
      "\n",
      " c:\\Users\\coloi\\OneDrive\\���� ȭ��\\���������̽� ���͸�\n",
      "\n",
      "2025-04-01  ���� 09:06    <DIR>          .\n",
      "2025-04-01  ���� 08:13    <DIR>          ..\n",
      "2025-03-18  ���� 06:29    <DIR>          .venv\n",
      "2025-03-25  ���� 06:55             7,788 Matrix.ipynb\n",
      "2025-04-01  ���� 11:41            57,940 My first python.ipynb\n",
      "2025-04-01  ���� 05:16             7,535 project1.ipynb\n",
      "               3�� ����              73,263 ����Ʈ\n",
      "               3�� ���͸�  138,556,841,984 ����Ʈ ����\n"
     ]
    }
   ],
   "source": [
    "%ls"
   ]
  },
  {
   "cell_type": "code",
   "execution_count": 7,
   "metadata": {},
   "outputs": [
    {
     "name": "stdout",
     "output_type": "stream",
     "text": [
      "var_x\t var_y\t \n"
     ]
    }
   ],
   "source": [
    "%who"
   ]
  },
  {
   "cell_type": "code",
   "execution_count": 8,
   "metadata": {},
   "outputs": [
    {
     "name": "stdout",
     "output_type": "stream",
     "text": [
      "Variable   Type    Data/Info\n",
      "----------------------------\n",
      "var_x      str     산업·데이터공학\n",
      "var_y      str     산업·데이터공학과\n"
     ]
    }
   ],
   "source": [
    "%whos"
   ]
  },
  {
   "cell_type": "code",
   "execution_count": 9,
   "metadata": {},
   "outputs": [
    {
     "name": "stdout",
     "output_type": "stream",
     "text": [
      "Variable   Type    Data/Info\n",
      "----------------------------\n",
      "var_x      str     산업·데이터공학\n",
      "var_y      str     산업·데이터공학과\n",
      "var_z1     int     123\n",
      "var_z2     list    n=5\n"
     ]
    }
   ],
   "source": [
    "var_z1 = 123\n",
    "var_z2 = [1,2,3,4,5]\n",
    "\n",
    "%whos"
   ]
  },
  {
   "cell_type": "code",
   "execution_count": 10,
   "metadata": {},
   "outputs": [
    {
     "name": "stdout",
     "output_type": "stream",
     "text": [
      "Variable   Type    Data/Info\n",
      "----------------------------\n",
      "var_y      str     산업·데이터공학과\n",
      "var_z1     int     123\n",
      "var_z2     list    n=5\n"
     ]
    }
   ],
   "source": [
    "del var_x\n",
    "\n",
    "%whos"
   ]
  },
  {
   "cell_type": "code",
   "execution_count": 11,
   "metadata": {},
   "outputs": [
    {
     "name": "stdout",
     "output_type": "stream",
     "text": [
      "Interactive namespace is empty.\n"
     ]
    }
   ],
   "source": [
    "del var_y,var_z1,var_z2\n",
    "\n",
    "%whos"
   ]
  },
  {
   "cell_type": "code",
   "execution_count": 13,
   "metadata": {},
   "outputs": [
    {
     "name": "stdout",
     "output_type": "stream",
     "text": [
      "var_x = '123'\n",
      "type(var_x) = <class 'str'>\n"
     ]
    }
   ],
   "source": [
    "var_x = input('데이터를 입력하세요:')\n",
    "\n",
    "print(f'{var_x = }')\n",
    "\n",
    "print(f'{type(var_x) = }')\n"
   ]
  },
  {
   "cell_type": "code",
   "execution_count": 14,
   "metadata": {},
   "outputs": [
    {
     "name": "stdout",
     "output_type": "stream",
     "text": [
      "123\n",
      "<class 'int'>\n"
     ]
    }
   ],
   "source": [
    "var_y = int(input('숫자를 입력하세요:'))\n",
    "\n",
    "print(var_y)\n",
    "\n",
    "print(type(var_y))\n"
   ]
  },
  {
   "cell_type": "code",
   "execution_count": 16,
   "metadata": {},
   "outputs": [
    {
     "name": "stdout",
     "output_type": "stream",
     "text": [
      "10\n",
      "10 산업·데이터공학과 3.14 True\n",
      "10:산업·데이터공학과:3.14:True\n",
      "10:산업·데이터공학과:3.14:True\t**********\n"
     ]
    }
   ],
   "source": [
    "print(10)\n",
    "print(10,'산업·데이터공학과',3.14,True)\n",
    "print(10,'산업·데이터공학과',3.14,True,sep=':')\n",
    "print(10,'산업·데이터공학과',3.14,True,sep=':',end='\\t**********\\n')"
   ]
  },
  {
   "cell_type": "code",
   "execution_count": 18,
   "metadata": {},
   "outputs": [
    {
     "name": "stdout",
     "output_type": "stream",
     "text": [
      "이름 : 홍길동\n",
      "학번 : 2021000\n",
      "학과 : 산업·데이터공학과\n"
     ]
    }
   ],
   "source": [
    "print('이름 : 홍길동\\n학번 : 2021000\\n학과 : 산업·데이터공학과')"
   ]
  },
  {
   "cell_type": "code",
   "execution_count": 19,
   "metadata": {},
   "outputs": [
    {
     "name": "stdout",
     "output_type": "stream",
     "text": [
      "이름\t학번\t\t학과\n",
      "홍길동\t2021000\t산업·데이터공학과\n",
      "김강\t2021000\t경영학과\n"
     ]
    }
   ],
   "source": [
    "print('이름\\t학번\\t\\t학과')\n",
    "print('홍길동\\t2021000\\t산업·데이터공학과')\n",
    "print('김강\\t2021000\\t경영학과')\n"
   ]
  },
  {
   "cell_type": "code",
   "execution_count": 21,
   "metadata": {},
   "outputs": [
    {
     "name": "stdout",
     "output_type": "stream",
     "text": [
      "54321\n",
      "------------------------\n",
      "var_y = 54321\n",
      "------------------------\n",
      "var_y = 54321\n"
     ]
    }
   ],
   "source": [
    "var_y = 54321\n",
    "\n",
    "print(f'{var_y}', end='\\n------------------------\\n')\n",
    "\n",
    "print(f'{var_y = }', end='\\n------------------------\\n')\n",
    "\n",
    "print(f'var_y = {var_y}')"
   ]
  },
  {
   "cell_type": "code",
   "execution_count": 23,
   "metadata": {},
   "outputs": [
    {
     "name": "stdout",
     "output_type": "stream",
     "text": [
      "var_x는 정수형이므로 d를 사용하여야 하고, 54321입니다.\n",
      "var_x를 총 20개의 자리에 표현하면,                54321입니다.\n",
      "var_x를 총 20개의 자리에 왼쪽 정렬하여 표현하면, 54321               입니다.\n",
      "var_z는 실수형이므로 f를 사용하여야 하고, 54321.123457입니다.\n",
      "var_z를 정수만 출력하면, 54321입니다.\n",
      "var_z를 소수점 5자리까지 출력하면, 54321.12346입니다.\n",
      "var_z를 20자리에 가운데 정렬하여 소수점 3자리까지 출력하면,      54321.123      입니다.\n"
     ]
    }
   ],
   "source": [
    "var_x=54321\n",
    "var_z=54321.123456789\n",
    "\n",
    "print(f'var_x는 정수형이므로 d를 사용하여야 하고, {var_x:d}입니다.')\n",
    "print(f'var_x를 총 20개의 자리에 표현하면, {var_x:20d}입니다.')\n",
    "print(f'var_x를 총 20개의 자리에 왼쪽 정렬하여 표현하면, {var_x:<20d}입니다.')\n",
    "print(f'var_z는 실수형이므로 f를 사용하여야 하고, {var_z:f}입니다.')\n",
    "print(f'var_z를 정수만 출력하면, {var_z:.0f}입니다.')\n",
    "print(f'var_z를 소수점 5자리까지 출력하면, {var_z:.5f}입니다.')\n",
    "print(f'var_z를 20자리에 가운데 정렬하여 소수점 3자리까지 출력하면, {var_z:^20.3f}입니다.')"
   ]
  },
  {
   "cell_type": "markdown",
   "metadata": {},
   "source": [
    "## 변수와 입출력 응용\n"
   ]
  },
  {
   "cell_type": "code",
   "execution_count": 24,
   "metadata": {},
   "outputs": [
    {
     "ename": "ValueError",
     "evalue": "Unknown format code 'd' for object of type 'float'",
     "output_type": "error",
     "traceback": [
      "\u001b[31m---------------------------------------------------------------------------\u001b[39m",
      "\u001b[31mValueError\u001b[39m                                Traceback (most recent call last)",
      "\u001b[36mCell\u001b[39m\u001b[36m \u001b[39m\u001b[32mIn[24]\u001b[39m\u001b[32m, line 4\u001b[39m\n\u001b[32m      1\u001b[39m \u001b[38;5;66;03m#float 변수를 정수형 자료로 포매팅하면 오류가 난다\u001b[39;00m\n\u001b[32m      2\u001b[39m var_z=\u001b[32m54321.123456789\u001b[39m\n\u001b[32m----> \u001b[39m\u001b[32m4\u001b[39m \u001b[38;5;28mprint\u001b[39m(\u001b[33mf\u001b[39m\u001b[33m'\u001b[39m\u001b[33mvar_z가 실수이지만, d로 포매팅하면, \u001b[39m\u001b[38;5;132;43;01m{\u001b[39;49;00m\u001b[43mvar_z\u001b[49m\u001b[38;5;132;43;01m:\u001b[39;49;00m\u001b[33;43md\u001b[39;49m\u001b[38;5;132;43;01m}\u001b[39;49;00m\u001b[33m입니다.\u001b[39m\u001b[33m'\u001b[39m)\n",
      "\u001b[31mValueError\u001b[39m: Unknown format code 'd' for object of type 'float'"
     ]
    }
   ],
   "source": [
    "#float 변수를 정수형 자료로 포매팅하면 오류가 난다\n",
    "var_z=54321.123456789\n",
    "\n",
    "print(f'var_z가 실수이지만, d로 포매팅하면, {var_z:d}입니다.')"
   ]
  },
  {
   "cell_type": "code",
   "execution_count": 25,
   "metadata": {},
   "outputs": [
    {
     "name": "stdout",
     "output_type": "stream",
     "text": [
      "var_x를 총 20개의 자리에 가운데 정렬하여 표현하면,        54321        입니다.\n"
     ]
    }
   ],
   "source": [
    "#변수를 가운데 정렬\n",
    "var_x=54321\n",
    "print(f'var_x를 총 20개의 자리에 가운데 정렬하여 표현하면, {var_x:^20d}입니다.')\n"
   ]
  },
  {
   "cell_type": "markdown",
   "metadata": {},
   "source": [
    "# 2.데이터 유형\n",
    "## 데이터 유형 기본"
   ]
  },
  {
   "cell_type": "code",
   "execution_count": 26,
   "metadata": {},
   "outputs": [
    {
     "name": "stdout",
     "output_type": "stream",
     "text": [
      "x_value =12345\n",
      "type(x_value) = <class 'int'>\n"
     ]
    }
   ],
   "source": [
    "x_value = 12345\n",
    "\n",
    "print(f'{x_value =}\\n{type(x_value) = }')\n"
   ]
  },
  {
   "cell_type": "code",
   "execution_count": 27,
   "metadata": {},
   "outputs": [
    {
     "name": "stdout",
     "output_type": "stream",
     "text": [
      "x_str = 'abcde'\n",
      " type(x_str) = <class 'str'>\n"
     ]
    }
   ],
   "source": [
    "x_str = 'abcde'\n",
    "\n",
    "print(f'{x_str = }\\n {type(x_str) = }')"
   ]
  },
  {
   "cell_type": "code",
   "execution_count": 28,
   "metadata": {},
   "outputs": [
    {
     "name": "stdout",
     "output_type": "stream",
     "text": [
      "x_list = ['abcde', 12345]\n",
      "type(x_list) = <class 'list'>\n"
     ]
    }
   ],
   "source": [
    "x_list = [x_str,x_value]\n",
    "\n",
    "print(f'{x_list = }\\n{type(x_list) = }')"
   ]
  },
  {
   "cell_type": "code",
   "execution_count": 29,
   "metadata": {},
   "outputs": [
    {
     "name": "stdout",
     "output_type": "stream",
     "text": [
      "x_tuple =('abcde', 12345)\n",
      "type(x_tuple) =<class 'tuple'>\n"
     ]
    }
   ],
   "source": [
    "x_tuple = (x_str,x_value)\n",
    "\n",
    "print(f'{x_tuple =}\\n{type(x_tuple) =}')\n"
   ]
  },
  {
   "cell_type": "code",
   "execution_count": 30,
   "metadata": {},
   "outputs": [
    {
     "name": "stdout",
     "output_type": "stream",
     "text": [
      "x_dict ={'name': 'Chunghun Ha', 'id': 67890}\n",
      "type(x_dict) =<class 'dict'>\n"
     ]
    }
   ],
   "source": [
    "x_dict = {'name' : 'Chunghun Ha','id':67890}\n",
    "\n",
    "print(f'{x_dict =}\\n{type(x_dict) =}')"
   ]
  },
  {
   "cell_type": "code",
   "execution_count": 31,
   "metadata": {},
   "outputs": [
    {
     "name": "stdout",
     "output_type": "stream",
     "text": [
      "x_none =None\n",
      "type(x_none) =<class 'NoneType'>\n"
     ]
    }
   ],
   "source": [
    "x_none = None\n",
    "\n",
    "print(f'{x_none =}\\n{type(x_none) =}')"
   ]
  },
  {
   "cell_type": "code",
   "execution_count": 33,
   "metadata": {},
   "outputs": [
    {
     "name": "stdout",
     "output_type": "stream",
     "text": [
      "['__abs__', '__add__', '__and__', '__bool__', '__ceil__', '__class__', '__delattr__', '__dir__', '__divmod__', '__doc__', '__eq__', '__float__', '__floor__', '__floordiv__', '__format__', '__ge__', '__getattribute__', '__getnewargs__', '__getstate__', '__gt__', '__hash__', '__index__', '__init__', '__init_subclass__', '__int__', '__invert__', '__le__', '__lshift__', '__lt__', '__mod__', '__mul__', '__ne__', '__neg__', '__new__', '__or__', '__pos__', '__pow__', '__radd__', '__rand__', '__rdivmod__', '__reduce__', '__reduce_ex__', '__repr__', '__rfloordiv__', '__rlshift__', '__rmod__', '__rmul__', '__ror__', '__round__', '__rpow__', '__rrshift__', '__rshift__', '__rsub__', '__rtruediv__', '__rxor__', '__setattr__', '__sizeof__', '__str__', '__sub__', '__subclasshook__', '__truediv__', '__trunc__', '__xor__', 'as_integer_ratio', 'bit_count', 'bit_length', 'conjugate', 'denominator', 'from_bytes', 'imag', 'is_integer', 'numerator', 'real', 'to_bytes']\n"
     ]
    }
   ],
   "source": [
    "print(dir(x_value))"
   ]
  },
  {
   "cell_type": "code",
   "execution_count": 34,
   "metadata": {},
   "outputs": [
    {
     "name": "stdout",
     "output_type": "stream",
     "text": [
      "x_value.real =12345\n",
      "x_value.bit_length() = 14\n"
     ]
    }
   ],
   "source": [
    "print(f'{x_value.real =}')\n",
    "\n",
    "print(f'{x_value.bit_length() = }')"
   ]
  },
  {
   "cell_type": "code",
   "execution_count": 35,
   "metadata": {},
   "outputs": [
    {
     "name": "stdout",
     "output_type": "stream",
     "text": [
      "Before : x_list = ['abcde', 12345]\n",
      "After : x_list = ['abcde', 'fghij']\n"
     ]
    }
   ],
   "source": [
    "x_list = ['abcde',12345]\n",
    "\n",
    "print(f'Before : {x_list = }')\n",
    "\n",
    "x_list[1]='fghij'\n",
    "\n",
    "print(f'After : {x_list = }')"
   ]
  },
  {
   "cell_type": "code",
   "execution_count": 36,
   "metadata": {},
   "outputs": [
    {
     "name": "stdout",
     "output_type": "stream",
     "text": [
      "Before : x_dict = {'name': 'Chunghun Ha', 'id': 67890}\n",
      "After : x_dict = {'name': 'Gildong Hong', 'id': 67890}\n"
     ]
    }
   ],
   "source": [
    "x_dict = {'name' : 'Chunghun Ha','id':67890}\n",
    "\n",
    "print(f'Before : {x_dict = }')\n",
    "\n",
    "x_dict['name'] = 'Gildong Hong'\n",
    "\n",
    "print(f'After : {x_dict = }')\n",
    "\n"
   ]
  },
  {
   "cell_type": "code",
   "execution_count": 37,
   "metadata": {},
   "outputs": [
    {
     "name": "stdout",
     "output_type": "stream",
     "text": [
      "Before : x_str = 'abcde'\n",
      "Error : 'str' object does not support item assignment\n",
      "After : x_str = 'abcde'\n"
     ]
    }
   ],
   "source": [
    "x_str = 'abcde'\n",
    "\n",
    "print(f'Before : {x_str = }')\n",
    "\n",
    "try:\n",
    "    x_str[1]='2'\n",
    "except TypeError as e:\n",
    "\n",
    "    print(f'Error : {e}')\n",
    "\n",
    "print(f'After : {x_str = }')"
   ]
  },
  {
   "cell_type": "code",
   "execution_count": 38,
   "metadata": {},
   "outputs": [
    {
     "name": "stdout",
     "output_type": "stream",
     "text": [
      "Before : x_tuple =('abcde', 12345)\n",
      "Error : 'tuple' object does not support item assignment\n",
      "After : x_tuple =('abcde', 12345)\n"
     ]
    }
   ],
   "source": [
    "x_tuple = ('abcde',12345)\n",
    "\n",
    "print(f'Before : {x_tuple =}')\n",
    "\n",
    "try:\n",
    "    x_tuple[1] = 'fghij'\n",
    "\n",
    "except TypeError as e:\n",
    "    print(f'Error : {e}')\n",
    "\n",
    "print(f'After : {x_tuple =}')"
   ]
  },
  {
   "cell_type": "code",
   "execution_count": 39,
   "metadata": {},
   "outputs": [
    {
     "name": "stdout",
     "output_type": "stream",
     "text": [
      "12345는 <class 'int'>\n",
      "------------------------------\n",
      "12345.0는 <class 'float'>\n",
      "------------------------------\n",
      "12345는 <class 'str'>\n",
      "------------------------------\n",
      "True는 <class 'bool'>\n"
     ]
    }
   ],
   "source": [
    "var_x = 12345\n",
    "\n",
    "print(f'{var_x}는 {type(var_x)}', end='\\n'+'-'*30+'\\n')\n",
    "\n",
    "var_y = float(var_x)\n",
    "\n",
    "print(f'{var_y}는 {type(var_y)}',end='\\n'+'-'*30+'\\n')\n",
    "\n",
    "var_y = str(var_x)\n",
    "\n",
    "print(f'{var_y}는 {type(var_y)}',end='\\n'+'-'*30+'\\n')\n",
    "\n",
    "var_y=bool(var_x)\n",
    "\n",
    "print(f'{var_y}는 {type(var_y)}')\n",
    "\n"
   ]
  },
  {
   "cell_type": "code",
   "execution_count": 40,
   "metadata": {},
   "outputs": [
    {
     "name": "stdout",
     "output_type": "stream",
     "text": [
      "range(-10, 0, 2)는 <class 'range'>\n",
      "------------------------------\n",
      "[-10, -8, -6, -4, -2]는 <class 'list'>\n",
      "------------------------------\n",
      "(-10, -8, -6, -4, -2)는 <class 'tuple'>\n",
      "------------------------------\n",
      "{-10, -8, -6, -4, -2}는 <class 'set'>\n"
     ]
    }
   ],
   "source": [
    "var_x = range(-10,0,2)\n",
    "print(f'{var_x}는 {type(var_x)}',end='\\n'+'-'*30+'\\n')\n",
    "\n",
    "var_y = list(var_x)\n",
    "print(f'{var_y}는 {type(var_y)}',end='\\n'+'-'*30+'\\n')\n",
    "\n",
    "var_y = tuple(var_x) \n",
    "print(f'{var_y}는 {type(var_y)}',end='\\n'+'-'*30+'\\n')\n",
    "\n",
    "var_y = set(var_x)\n",
    "print(f'{var_y}는 {type(var_y)}')"
   ]
  },
  {
   "cell_type": "code",
   "execution_count": 43,
   "metadata": {},
   "outputs": [
    {
     "name": "stdout",
     "output_type": "stream",
     "text": [
      "abcdab는 <class 'str'>\n",
      "------------------------------\n",
      "['a', 'b', 'c', 'd', 'a', 'b']는 <class 'list'>\n",
      "------------------------------\n",
      "('a', 'b', 'c', 'd', 'a', 'b')는 <class 'tuple'>\n",
      "------------------------------\n",
      "{'d', 'a', 'b', 'c'}는 <class 'set'>\n",
      "------------------------------\n"
     ]
    }
   ],
   "source": [
    "var_x = \"abcdab\"\n",
    "\n",
    "print(f'{var_x}는 {type(var_x)}',end='\\n'+'-'*30+'\\n')\n",
    "\n",
    "var_y= list(var_x)\n",
    "print(f'{var_y}는 {type(var_y)}',end='\\n'+'-'*30+'\\n')\n",
    "\n",
    "var_y = tuple(var_x)\n",
    "print(f'{var_y}는 {type(var_y)}',end='\\n'+'-'*30+'\\n')\n",
    "\n",
    "var_y = set(var_x)\n",
    "print(f'{var_y}는 {type(var_y)}',end='\\n'+'-'*30+'\\n')"
   ]
  },
  {
   "cell_type": "markdown",
   "metadata": {},
   "source": [
    "##데이터 유형 응용"
   ]
  },
  {
   "cell_type": "code",
   "execution_count": 46,
   "metadata": {},
   "outputs": [
    {
     "name": "stdout",
     "output_type": "stream",
     "text": [
      "True\n",
      "True\n",
      "True\n",
      "True\n",
      "True\n",
      "False\n",
      "True\n",
      "False\n",
      "False\n",
      "True\n"
     ]
    }
   ],
   "source": [
    "#bool 의 참 거짓에 대한 응용(탐구)\n",
    "print(bool([1,2,3]))\n",
    "print(bool([0,0,0]))\n",
    "print(bool([0]))\n",
    "print(bool([10]))\n",
    "print(bool((10)))\n",
    "print(bool((0)))\n",
    "print(bool((0,)))\n",
    "print(bool([]))\n",
    "print(bool(''))\n",
    "print(bool(' '))\n",
    "\n",
    "#리스트 안에 아무것도 없으면 false, 따옴표 안에 아무것도 없으면 false(스페이스바 는 True),숫자 0 또한 false\n"
   ]
  },
  {
   "cell_type": "markdown",
   "metadata": {},
   "source": [
    "# 3.데이터 연산\n",
    "## 데이터 연산 기본"
   ]
  },
  {
   "cell_type": "code",
   "execution_count": 1,
   "metadata": {},
   "outputs": [
    {
     "name": "stdout",
     "output_type": "stream",
     "text": [
      "2+3 = 5\n",
      "2.0+3 = 5.0\n",
      "2.0+3.0 = 5.0\n",
      "'2'+'3' = '23'\n",
      "unsupported operand type(s) for +: 'int' and 'str'\n"
     ]
    }
   ],
   "source": [
    "print(f'{2+3 = }') # 정수+정수 = 정수\n",
    "print(f'{2.0+3 = }') #실수 + 정수 = 실수\n",
    "print(f'{2.0+3.0 = }')#실수 + 실수 = 실수\n",
    "print(f'{'2'+'3' = }')#문자열 + 문자열 = 문자열\n",
    "\n",
    "#에러 발생\n",
    "try:\n",
    "    print(f'{2+'3' = }') #정수 + 문자열 = 에러\n",
    "except Exception as e:\n",
    "    print(e)"
   ]
  },
  {
   "cell_type": "code",
   "execution_count": 3,
   "metadata": {},
   "outputs": [
    {
     "name": "stdout",
     "output_type": "stream",
     "text": [
      "2-3 =-1\n",
      "2.0-3=-1.0\n",
      "2.0-3.0=-1.0\n",
      "2*3=6\n",
      "6.0\n",
      "2.0*3.0=6.0\n",
      "2/3 =0.6666666666666666\n",
      "2.0/3 =0.6666666666666666\n",
      "2.0/3.0 =0.6666666666666666\n"
     ]
    }
   ],
   "source": [
    "print(f'{2-3 =}') #정수 - 정수 = 정수\n",
    "print(f'{2.0-3=}')#실수 - 정수 = 실수\n",
    "print(f'{2.0-3.0=}')#실수 - 실수 = 실수\n",
    "print(f'{2*3=}')#정수*정수 = 정수\n",
    "print(f'{2.0*3}')#실수*정수 = 실수\n",
    "print(f'{2.0*3.0=}')#실수 * 실수 = 실수\n",
    "print(f'{2/3 =}')# 정수/정수 = 실수\n",
    "print(f'{2.0/3 =}')#실수/정수 = 실수\n",
    "print(f'{2.0/3.0 =}')#실수/실수 = 실수\n"
   ]
  },
  {
   "cell_type": "code",
   "execution_count": 5,
   "metadata": {},
   "outputs": [
    {
     "name": "stdout",
     "output_type": "stream",
     "text": [
      "20//3 =6\n",
      "20%3 =2\n",
      "2**3=8\n"
     ]
    }
   ],
   "source": [
    "#몫\n",
    "\n",
    "print(f'{20//3 =}')\n",
    "\n",
    "#나머지 \n",
    "print(f'{20%3 =}')\n",
    "\n",
    "#거듭제곱\n",
    "print(f'{2**3=}')\n"
   ]
  },
  {
   "cell_type": "code",
   "execution_count": 6,
   "metadata": {},
   "outputs": [
    {
     "name": "stdout",
     "output_type": "stream",
     "text": [
      "var_x + var_x = 'AbcAbc'\n",
      "var_y + var_y = [100, 2, 3, 100, 2, 3]\n",
      "var_x*3 ='AbcAbcAbc'\n",
      "var_y*3 = [100, 2, 3, 100, 2, 3, 100, 2, 3]\n"
     ]
    }
   ],
   "source": [
    "var_x='Abc'\n",
    "var_y=[100,2,3]\n",
    "\n",
    "#문자열과 문자열의 합\n",
    "print(f'{var_x + var_x = }')\n",
    "\n",
    "#리스트와 리스트의 합\n",
    "print(f'{var_y + var_y = }')\n",
    "\n",
    "#문자열과 정수의 곱\n",
    "print(f'{var_x*3 =}')\n",
    "\n",
    "#리스트와 정수의 곱\n",
    "print(f'{var_y*3 = }')\n"
   ]
  },
  {
   "cell_type": "code",
   "execution_count": 7,
   "metadata": {},
   "outputs": [
    {
     "name": "stdout",
     "output_type": "stream",
     "text": [
      "2 == 3 =False\n",
      "2 != 3 =True\n",
      "2>3 =False\n",
      "2 < 3 =True\n",
      "2>=3 =False\n",
      "2<=3 =True\n"
     ]
    }
   ],
   "source": [
    "#관계연산자\n",
    "\n",
    "print(f'{2 == 3 =}')\n",
    "\n",
    "print(f'{2 != 3 =}')\n",
    "\n",
    "print(f'{2>3 =}')\n",
    "\n",
    "print(f'{2 < 3 =}')\n",
    "\n",
    "print(f'{2>=3 =}')\n",
    "\n",
    "print(f'{2<=3 =}')\n",
    "\n"
   ]
  },
  {
   "cell_type": "code",
   "execution_count": 8,
   "metadata": {},
   "outputs": [
    {
     "name": "stdout",
     "output_type": "stream",
     "text": [
      "(var_y == [1,2,3]) =True\n",
      "(var_y == (1,2,3)) =False\n",
      "(var_y == [1,2]) =False\n",
      "(var_y != [1,2]) =True\n",
      "(var_y > [1,2]) =True\n",
      "(var_y < [1,2]) =False\n"
     ]
    }
   ],
   "source": [
    "var_y = [1,2,3]\n",
    "\n",
    "print(f'{(var_y == [1,2,3]) =}')\n",
    "print(f'{(var_y == (1,2,3)) =}')\n",
    "print(f'{(var_y == [1,2]) =}')\n",
    "print(f'{(var_y != [1,2]) =}')\n",
    "print(f'{(var_y > [1,2]) =}')\n",
    "print(f'{(var_y < [1,2]) =}')\n",
    "\n",
    "\n",
    "\n"
   ]
  },
  {
   "cell_type": "code",
   "execution_count": 9,
   "metadata": {},
   "outputs": [
    {
     "data": {
      "text/plain": [
       "True"
      ]
     },
     "execution_count": 9,
     "metadata": {},
     "output_type": "execute_result"
    }
   ],
   "source": [
    "True and True"
   ]
  },
  {
   "cell_type": "code",
   "execution_count": 10,
   "metadata": {},
   "outputs": [
    {
     "name": "stdout",
     "output_type": "stream",
     "text": [
      "var_y =False\n",
      "(var_x and var_y) =False\n",
      "(var_x or var_y) =True\n",
      "(not var_x) =False\n"
     ]
    }
   ],
   "source": [
    "var_x = True\n",
    "\n",
    "var_y = (10>20)\n",
    "\n",
    "print(f'{var_y =}')\n",
    "print(f'{(var_x and var_y) =}')\n",
    "print(f'{(var_x or var_y) =}')\n",
    "print(f'{(not var_x) =}')"
   ]
  },
  {
   "cell_type": "code",
   "execution_count": 11,
   "metadata": {},
   "outputs": [
    {
     "name": "stdout",
     "output_type": "stream",
     "text": [
      "(2==3) and (2!=3) =False\n"
     ]
    }
   ],
   "source": [
    "print(f'{(2==3) and (2!=3) =}')"
   ]
  },
  {
   "cell_type": "code",
   "execution_count": 12,
   "metadata": {},
   "outputs": [
    {
     "name": "stdout",
     "output_type": "stream",
     "text": [
      "(1 in var_y) =True\n",
      "('1' in var_y) =False\n",
      "(4 in var_y) =False\n",
      "(1 not in var_y) =False\n",
      "(4 not in var_y) =True\n"
     ]
    }
   ],
   "source": [
    "var_y = [1,2,3]\n",
    "\n",
    "print(f'{(1 in var_y) =}')\n",
    "print(f'{('1' in var_y) =}')\n",
    "print(f'{(4 in var_y) =}')\n",
    "print(f'{(1 not in var_y) =}')\n",
    "print(f'{(4 not in var_y) =}')"
   ]
  },
  {
   "cell_type": "code",
   "execution_count": 13,
   "metadata": {},
   "outputs": [
    {
     "name": "stdout",
     "output_type": "stream",
     "text": [
      "(var_x == 10) =True\n",
      "(var_x is 10) =True\n"
     ]
    },
    {
     "name": "stderr",
     "output_type": "stream",
     "text": [
      "<>:5: SyntaxWarning: \"is\" with 'int' literal. Did you mean \"==\"?\n",
      "<>:5: SyntaxWarning: \"is\" with 'int' literal. Did you mean \"==\"?\n",
      "C:\\Users\\coloi\\AppData\\Local\\Temp\\ipykernel_14160\\1389763990.py:5: SyntaxWarning: \"is\" with 'int' literal. Did you mean \"==\"?\n",
      "  print(f'{(var_x is 10) =}')\n"
     ]
    }
   ],
   "source": [
    "var_x = 10\n",
    "\n",
    "print(f'{(var_x == 10) =}')\n",
    "\n",
    "print(f'{(var_x is 10) =}')"
   ]
  },
  {
   "cell_type": "code",
   "execution_count": 14,
   "metadata": {},
   "outputs": [
    {
     "name": "stdout",
     "output_type": "stream",
     "text": [
      "(var_x is var_y) =False\n",
      "(var_x is var_z) =True\n",
      "(var_x is not var_y) =True\n",
      "(var_x is not var_z) =False\n"
     ]
    }
   ],
   "source": [
    "var_x = 10\n",
    "var_y = 10.0\n",
    "var_z = var_x\n",
    "\n",
    "print(f'{(var_x is var_y) =}')\n",
    "print(f'{(var_x is var_z) =}')\n",
    "print(f'{(var_x is not var_y) =}')\n",
    "print(f'{(var_x is not var_z) =}')"
   ]
  },
  {
   "cell_type": "code",
   "execution_count": 15,
   "metadata": {},
   "outputs": [
    {
     "name": "stdout",
     "output_type": "stream",
     "text": [
      "2\n"
     ]
    }
   ],
   "source": [
    "var_x = 1\n",
    "\n",
    "var_x += 1\n",
    "\n",
    "print(var_x)"
   ]
  },
  {
   "cell_type": "code",
   "execution_count": 16,
   "metadata": {},
   "outputs": [
    {
     "name": "stdout",
     "output_type": "stream",
     "text": [
      "11\n",
      "10\n",
      "20\n",
      "10.0\n",
      "5.0\n",
      "1.0\n",
      "1.0\n"
     ]
    }
   ],
   "source": [
    "var_x = 1\n",
    "\n",
    "var_x += 10; print(var_x)\n",
    "var_x -= 1; print(var_x)\n",
    "var_x *= 2; print(var_x)\n",
    "var_x /= 2; print(var_x)\n",
    "var_x //=2; print(var_x)\n",
    "var_x %= 2; print(var_x)\n",
    "var_x **= 2; print(var_x)\n"
   ]
  },
  {
   "cell_type": "code",
   "execution_count": 17,
   "metadata": {},
   "outputs": [
    {
     "name": "stdout",
     "output_type": "stream",
     "text": [
      "13\n",
      "256\n",
      "True\n",
      "False\n",
      "False\n"
     ]
    }
   ],
   "source": [
    "print(2**3+5)\n",
    "print(2**(3+5))\n",
    "print(2+3<=4*5)\n",
    "print(not 2+3 <= 4*5)\n",
    "print(not ((2+3) <= (4*5)))\n"
   ]
  },
  {
   "cell_type": "markdown",
   "metadata": {},
   "source": [
    "## 데이터 연산 응용\n"
   ]
  },
  {
   "cell_type": "code",
   "execution_count": 18,
   "metadata": {},
   "outputs": [
    {
     "name": "stdout",
     "output_type": "stream",
     "text": [
      "abcdefghij\n",
      "24690.0\n",
      "[1, 2, 3, 4, 5, 6]\n",
      "(1, 2, 3, 4, 5, 6)\n",
      "[1, 3, 4, 2, 5, 6]\n",
      "37035\n",
      "(1, 2, 3, 1, 2, 3, 1, 2, 3)\n",
      "abcdeabcdeabcde\n"
     ]
    }
   ],
   "source": [
    "#문자열의 연산, 리스트, 튜플의 연산\n",
    "\n",
    "print('abcde'+'fghij')\n",
    "print(12345+12345.0)\n",
    "print([1,2,3]+[4,5,6])\n",
    "print((1,2,3)+(4,5,6))\n",
    "print([1,3,4]+[2,5,6])\n",
    "print(12345*3)\n",
    "print((1,2,3)*3)\n",
    "print('abcde'*3)"
   ]
  }
 ],
 "metadata": {
  "kernelspec": {
   "display_name": "base",
   "language": "python",
   "name": "python3"
  },
  "language_info": {
   "codemirror_mode": {
    "name": "ipython",
    "version": 3
   },
   "file_extension": ".py",
   "mimetype": "text/x-python",
   "name": "python",
   "nbconvert_exporter": "python",
   "pygments_lexer": "ipython3",
   "version": "3.12.9"
  }
 },
 "nbformat": 4,
 "nbformat_minor": 2
}
