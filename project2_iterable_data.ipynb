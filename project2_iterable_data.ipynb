{
 "cells": [
  {
   "cell_type": "markdown",
   "metadata": {},
   "source": [
    "# C521018 김은빈\n",
    "## 4.iterable 자료형\n",
    "\n",
    "## iterable 자료형 기본"
   ]
  },
  {
   "cell_type": "code",
   "execution_count": 1,
   "metadata": {},
   "outputs": [
    {
     "name": "stdout",
     "output_type": "stream",
     "text": [
      "0\n",
      "1\n",
      "2\n",
      "3\n",
      "4\n"
     ]
    }
   ],
   "source": [
    "x_list = [0,1,2,3,4]\n",
    "\n",
    "print(x_list[0])\n",
    "print(x_list[1])\n",
    "print(x_list[2])\n",
    "print(x_list[3])\n",
    "print(x_list[4])\n",
    "\n"
   ]
  },
  {
   "cell_type": "code",
   "execution_count": 2,
   "metadata": {},
   "outputs": [
    {
     "name": "stdout",
     "output_type": "stream",
     "text": [
      "4\n",
      "3\n",
      "2\n",
      "1\n",
      "0\n"
     ]
    }
   ],
   "source": [
    "x_list = [0,1,2,3,4]\n",
    "\n",
    "print(x_list[-1])\n",
    "print(x_list[-2])\n",
    "print(x_list[-3])\n",
    "print(x_list[-4])\n",
    "print(x_list[-5])"
   ]
  },
  {
   "cell_type": "code",
   "execution_count": 3,
   "metadata": {},
   "outputs": [
    {
     "name": "stdout",
     "output_type": "stream",
     "text": [
      "list index out of range\n"
     ]
    }
   ],
   "source": [
    "x_list = [0,1,2,3,4]\n",
    "\n",
    "try:\n",
    "    print(x_list[5])\n",
    "except IndexError as e:\n",
    "    print(e)\n",
    "    \n"
   ]
  },
  {
   "cell_type": "code",
   "execution_count": 4,
   "metadata": {},
   "outputs": [
    {
     "name": "stdout",
     "output_type": "stream",
     "text": [
      "x_list =[1, 2, 3, 4, 5] \t=> x_list[0] = 1\n",
      "x_tuple =(1, 2, 3, 4, 5) \t=> x_tuple[-1] =5\n"
     ]
    }
   ],
   "source": [
    "x_list = [1,2,3,4,5]\n",
    "x_tuple = (1,2,3,4,5)\n",
    "\n",
    "print(f'{x_list =} \\t=> {x_list[0] = }')\n",
    "print(f'{x_tuple =} \\t=> {x_tuple[-1] =}')\n",
    "\n",
    "\n"
   ]
  },
  {
   "cell_type": "code",
   "execution_count": 5,
   "metadata": {},
   "outputs": [
    {
     "name": "stdout",
     "output_type": "stream",
     "text": [
      "x_dict = {'name': ['김홍익', '이파이'], 'id': [12345, 67890]} \t => x_dict['name'][0] = '김홍익'\n"
     ]
    }
   ],
   "source": [
    "x_dict = { 'name':['김홍익','이파이'], 'id' : [12345,67890]}\n",
    "\n",
    "print(f'{x_dict = } \\t => {x_dict['name'][0] = }')"
   ]
  },
  {
   "cell_type": "code",
   "execution_count": 6,
   "metadata": {},
   "outputs": [
    {
     "name": "stdout",
     "output_type": "stream",
     "text": [
      "x_str = 'Hello World!' \t\t => x_str[0] = 'H'\n",
      "x_str = 'Hello World!' \t\t => x_str[3] = 'l'\n"
     ]
    }
   ],
   "source": [
    "x_str = 'Hello World!'   #인덱싱 : 원소를 가져옴\n",
    "\n",
    "print(f'{x_str = } \\t\\t => {x_str[0] = }')\n",
    "\n",
    "print(f'{x_str = } \\t\\t => {x_str[3] = }')\n"
   ]
  },
  {
   "cell_type": "code",
   "execution_count": 7,
   "metadata": {},
   "outputs": [
    {
     "name": "stdout",
     "output_type": "stream",
     "text": [
      "[1, 2]\n",
      "[1, 2, 3, 4]\n",
      "[0, 1, 2]\n",
      "[0, 1, 2, 3, 4]\n"
     ]
    }
   ],
   "source": [
    "x_list = [0,1,2,3,4]    #슬라이싱 => 리스트로 가져옴옴\n",
    "\n",
    "print(x_list[1:3]) # 1부터 3 전까지\n",
    "print(x_list[1:])  # 1부터 끝까지\n",
    "print(x_list[:3])  # 처음부터 3 전까지\n",
    "print(x_list[:])   #처음부터 끝까지\n"
   ]
  },
  {
   "cell_type": "code",
   "execution_count": 8,
   "metadata": {},
   "outputs": [
    {
     "name": "stdout",
     "output_type": "stream",
     "text": [
      "[1, 2, 3, 4]\n"
     ]
    }
   ],
   "source": [
    "x_list = [0,1,2,3,4]\n",
    "\n",
    "try:\n",
    "    print(x_list[1:10])\n",
    "except IndexError as e:\n",
    "    print(e)"
   ]
  },
  {
   "cell_type": "code",
   "execution_count": 9,
   "metadata": {},
   "outputs": [
    {
     "name": "stdout",
     "output_type": "stream",
     "text": [
      "x_list = [1, 2, 3, 4, 5] \t => x_list[0:3] = [1, 2, 3]\n",
      "x_tuple = (1, 2, 3, 4, 5) \t => x_tuple[-1:-4:-1] = (5, 4, 3)\n"
     ]
    }
   ],
   "source": [
    "x_list = [1,2,3,4,5]\n",
    "x_tuple = (1,2,3,4,5)\n",
    "\n",
    "print(f'{x_list = } \\t => {x_list[0:3] = }')        #0부터 3 전까지\n",
    "print(f'{x_tuple = } \\t => {x_tuple[-1:-4:-1] = }') #뒤에서 1부터 4 전까지지\n"
   ]
  },
  {
   "cell_type": "code",
   "execution_count": 10,
   "metadata": {},
   "outputs": [
    {
     "name": "stdout",
     "output_type": "stream",
     "text": [
      "x_dict = {'name': ['김홍익', '이파이'], 'id': [12345, 67890]} \t => x_dict[\"name\"][0:1] = ['김홍익']\n"
     ]
    }
   ],
   "source": [
    "x_dict = { 'name':['김홍익','이파이'], 'id' : [12345,67890]}\n",
    "\n",
    "print(f'{x_dict = } \\t => {x_dict[\"name\"][0:1] = }') #name key의 0부터 1 전까지"
   ]
  },
  {
   "cell_type": "code",
   "execution_count": 11,
   "metadata": {},
   "outputs": [
    {
     "name": "stdout",
     "output_type": "stream",
     "text": [
      "x_str = 'Hello Wolrd!' \t\t => x_str[0:3] = 'Hel'\n",
      "x_str = 'Hello Wolrd!' \t\t => x_str[-2:-10:-2] = 'dlWo'\n"
     ]
    }
   ],
   "source": [
    "x_str = 'Hello Wolrd!'\n",
    "\n",
    "print(f'{x_str = } \\t\\t => {x_str[0:3] = }')  #0부터 3 전까지\n",
    "\n",
    "print(f'{x_str = } \\t\\t => {x_str[-2:-10:-2] = }')  #-2부터 -10 전까지 -2 칸씩"
   ]
  },
  {
   "cell_type": "code",
   "execution_count": 12,
   "metadata": {},
   "outputs": [
    {
     "name": "stdout",
     "output_type": "stream",
     "text": [
      "x = (1, 2, 3) \t => id(x) = 1322585780928\n",
      "y = (1, 2, 3) \t => id(y) = 1322585780928\n",
      "x = (1, 2, 3) \t => id(x) = 1322585780928\n",
      "y = (1, 20, 3) \t => id(y) = 1322585968704\n"
     ]
    }
   ],
   "source": [
    "x = (1,2,3)  # 이뮤터블 객체 : 튜플\n",
    "\n",
    "y=x\n",
    "\n",
    "print(f'{x = } \\t => {id(x) = }')\n",
    "print(f'{y = } \\t => {id(y) = }')\n",
    "\n",
    "y = (1,20,3)\n",
    "\n",
    "print(f'{x = } \\t => {id(x) = }')\n",
    "print(f'{y = } \\t => {id(y) = }')\n",
    "\n",
    "\n"
   ]
  },
  {
   "cell_type": "code",
   "execution_count": 13,
   "metadata": {},
   "outputs": [
    {
     "name": "stdout",
     "output_type": "stream",
     "text": [
      "x = [1, 2, 3] \t => id(x) = 1322587264640\n",
      "y = [1, 2, 3] \t => id(y) = 1322587264640\n",
      "x = [1, 20, 3] \t => id(x) = 1322587264640\n",
      "y = [1, 20, 3] \t => id(y) = 1322587264640\n"
     ]
    }
   ],
   "source": [
    "x = [1,2,3]\n",
    "\n",
    "y=x\n",
    "\n",
    "print(f'{x = } \\t => {id(x) = }')\n",
    "print(f'{y = } \\t => {id(y) = }')\n",
    "\n",
    "y[1]=20 #y의값만 바꿨지만 x값도 바뀜 -> x와 y는 한 몸(얕은복사)\n",
    "\n",
    "print(f'{x = } \\t => {id(x) = }')\n",
    "print(f'{y = } \\t => {id(y) = }')"
   ]
  },
  {
   "cell_type": "code",
   "execution_count": 14,
   "metadata": {},
   "outputs": [
    {
     "name": "stdout",
     "output_type": "stream",
     "text": [
      "x = [1, 2, 3] \t => id(x) = 1322587273472\n",
      "y = [1, 2, 3] \t => id(y) = 1322587315200\n",
      "x = [1, 2, 3] \t => id(x) = 1322587273472\n",
      "y = [1, 20, 3] \t => id(y) = 1322587315200\n"
     ]
    }
   ],
   "source": [
    "x= [1,2,3]\n",
    "\n",
    "y=x.copy()  #깊은 복사 ( 주소 다름 )\n",
    "\n",
    "print(f'{x = } \\t => {id(x) = }')\n",
    "print(f'{y = } \\t => {id(y) = }')\n",
    "\n",
    "y[1]=20\n",
    "\n",
    "print(f'{x = } \\t => {id(x) = }')\n",
    "print(f'{y = } \\t => {id(y) = }')"
   ]
  },
  {
   "cell_type": "code",
   "execution_count": 15,
   "metadata": {},
   "outputs": [
    {
     "name": "stdout",
     "output_type": "stream",
     "text": [
      "x_list는 <class 'list'>이고, x-tuple은 <class 'tuple'>이다.\n"
     ]
    }
   ],
   "source": [
    "x_list = [1,2,3,4,5]\n",
    "\n",
    "x_tuple = (1,2,3,4,5)\n",
    "\n",
    "print(f'x_list는 {type(x_list)}이고, x-tuple은 {type(x_tuple)}이다.')"
   ]
  },
  {
   "cell_type": "code",
   "execution_count": 16,
   "metadata": {},
   "outputs": [
    {
     "name": "stdout",
     "output_type": "stream",
     "text": [
      "Before:[1, 2, 3, 4, 5]\n",
      "After : [1, '2', 3, 5]\n"
     ]
    }
   ],
   "source": [
    "print(f'Before:{x_list}')\n",
    "\n",
    "try:\n",
    "    x_list[1]='2'\n",
    "\n",
    "    del x_list[3]\n",
    "except TypeError as e:\n",
    "    print(f'Error:{e}')\n",
    "\n",
    "print(f'After : {x_list}')"
   ]
  },
  {
   "cell_type": "code",
   "execution_count": 17,
   "metadata": {},
   "outputs": [
    {
     "name": "stdout",
     "output_type": "stream",
     "text": [
      "Before:(1, 2, 3, 4, 5)\n",
      "Error:'tuple' object does not support item assignment\n",
      "Error:'tuple' object doesn't support item deletion\n",
      "After:(1, 2, 3, 4, 5)\n"
     ]
    }
   ],
   "source": [
    "print(f'Before:{x_tuple}')\n",
    "\n",
    "try:\n",
    "    x_tuple[1]='2'\n",
    "except TypeError as e:\n",
    "    print(f'Error:{e}')\n",
    "\n",
    "try:\n",
    "    del x_tuple[3]\n",
    "except TypeError as e:\n",
    "    print(f'Error:{e}')\n",
    "\n",
    "print(f'After:{x_tuple}')"
   ]
  },
  {
   "cell_type": "code",
   "execution_count": 18,
   "metadata": {},
   "outputs": [
    {
     "name": "stdout",
     "output_type": "stream",
     "text": [
      "len(x_list) =5\n",
      "sum(x_list) =10\n",
      "min(x_list) =0\n",
      "max(x_list) =4\n",
      "sorted(x_list) =[0, 1, 2, 3, 4]\n",
      "sorted(x_list,reverse=True) =[4, 3, 2, 1, 0]\n",
      "all(x_list) =False\n",
      "any(x_list) =True\n"
     ]
    }
   ],
   "source": [
    "x_list = [0,1,2,3,4]\n",
    "\n",
    "print(f'{len(x_list) =}')\n",
    "\n",
    "print(f'{sum(x_list) =}')\n",
    "\n",
    "print(f'{min(x_list) =}')\n",
    "\n",
    "print(f'{max(x_list) =}')\n",
    "\n",
    "print(f'{sorted(x_list) =}')\n",
    "\n",
    "print(f'{sorted(x_list,reverse=True) =}')\n",
    "\n",
    "print(f'{all(x_list) =}')\n",
    "\n",
    "print(f'{any(x_list) =}')\n",
    "\n"
   ]
  },
  {
   "cell_type": "code",
   "execution_count": 19,
   "metadata": {},
   "outputs": [
    {
     "name": "stdout",
     "output_type": "stream",
     "text": [
      "['__add__', '__class__', '__class_getitem__', '__contains__', '__delattr__', '__delitem__', '__dir__', '__doc__', '__eq__', '__format__', '__ge__', '__getattribute__', '__getitem__', '__getstate__', '__gt__', '__hash__', '__iadd__', '__imul__', '__init__', '__init_subclass__', '__iter__', '__le__', '__len__', '__lt__', '__mul__', '__ne__', '__new__', '__reduce__', '__reduce_ex__', '__repr__', '__reversed__', '__rmul__', '__setattr__', '__setitem__', '__sizeof__', '__str__', '__subclasshook__', 'append', 'clear', 'copy', 'count', 'extend', 'index', 'insert', 'pop', 'remove', 'reverse', 'sort']\n",
      "================================================================================\n",
      "['__add__', '__class__', '__class_getitem__', '__contains__', '__delattr__', '__dir__', '__doc__', '__eq__', '__format__', '__ge__', '__getattribute__', '__getitem__', '__getnewargs__', '__getstate__', '__gt__', '__hash__', '__init__', '__init_subclass__', '__iter__', '__le__', '__len__', '__lt__', '__mul__', '__ne__', '__new__', '__reduce__', '__reduce_ex__', '__repr__', '__rmul__', '__setattr__', '__sizeof__', '__str__', '__subclasshook__', 'count', 'index']\n"
     ]
    }
   ],
   "source": [
    "print(dir(x_list),end='\\n'+'='*80+'\\n')\n",
    "\n",
    "print(dir(x_tuple))"
   ]
  },
  {
   "cell_type": "code",
   "execution_count": 20,
   "metadata": {},
   "outputs": [
    {
     "name": "stdout",
     "output_type": "stream",
     "text": [
      "x_list = [1, 2, 3, 4, 5, 2, 3, 2]\n",
      "x_list.count(2) = 3\n",
      "x_list.index(2) = 1\n"
     ]
    }
   ],
   "source": [
    "x_list = [1,2,3,4,5,2,3,2]\n",
    "\n",
    "print(f'{x_list = }')\n",
    "\n",
    "print(f'{x_list.count(2) = }') # 2의개수 출력\n",
    "\n",
    "print(f'{x_list.index(2) = }') # 2의 첫번째 인덱스  출력"
   ]
  },
  {
   "cell_type": "code",
   "execution_count": 21,
   "metadata": {},
   "outputs": [
    {
     "name": "stdout",
     "output_type": "stream",
     "text": [
      "y_list =[1, 2, 3, 4, 5, 2, 3, 2]\n",
      "x_list is y_list =False\n",
      "id(x_list) =1322587310720,id(y_list) =1322587297280\n"
     ]
    }
   ],
   "source": [
    "x_list = [1,2,3,4,5,2,3,2]\n",
    "\n",
    "y_list = x_list.copy()\n",
    "\n",
    "print(f'{y_list =}')\n",
    "\n",
    "print(f'{x_list is y_list =}')\n",
    "\n",
    "print(f'{id(x_list) =},{id(y_list) =}')\n"
   ]
  },
  {
   "cell_type": "code",
   "execution_count": 22,
   "metadata": {},
   "outputs": [
    {
     "name": "stdout",
     "output_type": "stream",
     "text": [
      "x_list =[2, 3, 2, 5, 4, 3, 2, 1]\n"
     ]
    }
   ],
   "source": [
    "x_list.reverse()\n",
    "print(f'{x_list =}')\n"
   ]
  },
  {
   "cell_type": "code",
   "execution_count": 23,
   "metadata": {},
   "outputs": [
    {
     "name": "stdout",
     "output_type": "stream",
     "text": [
      "x_list =[1, 2, 2, 2, 3, 3, 4, 5]\n",
      "x_list = [1, 2, 2, 2, 3, 3, 4, 5, 6]\n",
      "x_list = [1, 2, 2, 2, 3, 3, 4, 5, 6, 7, 8, 9]\n",
      "x_list = [1, 2, 2, 2, 3, 3, 4, 5, 6, 7, 8, 9, [10, 11, 12]]\n",
      "x_list = [1, 2, 2, 3.5, 2, 3, 3, 4, 5, 6, 7, 8, 9, [10, 11, 12]]\n",
      "x_list = [1, 2, 2, 2, 3, 3, 4, 5, 6, 7, 8, 9, [10, 11, 12]]\n",
      "x_list =[1, 2, 2, 2, 3, 3, 4, 5, 6, 7, 8, 9]\n",
      "x_list = [1, 2, 2, 2, 3, 3, 4, 6, 7, 8, 9]\n",
      "x_list = [2, 2, 2, 3, 3, 4, 6, 7, 8, 9], x_pop = 1\n",
      "x_list = []\n",
      "Error : name 'x_list' is not defined\n"
     ]
    }
   ],
   "source": [
    "x_list = [1,2,3,4,5,2,3,2]\n",
    "\n",
    "x_list.sort()\n",
    "print(f'{x_list =}')\n",
    "\n",
    "x_list.append(6)\n",
    "print(f'{x_list = }')\n",
    "\n",
    "x_list.extend([7,8,9])\n",
    "print(f'{x_list = }')\n",
    "\n",
    "x_list.append([10,11,12])\n",
    "print(f'{x_list = }')\n",
    "\n",
    "x_list.insert(3,3.5)\n",
    "print(f'{x_list = }')\n",
    "\n",
    "x_list.remove(3.5)\n",
    "print(f'{x_list = }')\n",
    "\n",
    "x_list.pop() # 마지막원소삭제\n",
    "print(f'{x_list =}')\n",
    "\n",
    "x_list.pop(7)\n",
    "print(f'{x_list = }')\n",
    "\n",
    "x_pop = x_list.pop(0)\n",
    "print(f'{x_list = }, {x_pop = }')\n",
    "\n",
    "x_list.clear()\n",
    "print(f'{x_list = }')\n",
    "\n",
    "del x_list\n",
    "\n",
    "try:\n",
    "    print(f'{x_list =}')\n",
    "except NameError as e:\n",
    "    print(f'Error : {e}')"
   ]
  },
  {
   "cell_type": "code",
   "execution_count": 24,
   "metadata": {},
   "outputs": [
    {
     "name": "stdout",
     "output_type": "stream",
     "text": [
      "Hello Python! My name is Python. I am a Python Developer.\n"
     ]
    }
   ],
   "source": [
    "string1 = \"Hello Python! My name is Python. I am a Python Developer.\"\n",
    "\n",
    "print(string1)"
   ]
  },
  {
   "cell_type": "code",
   "execution_count": 25,
   "metadata": {},
   "outputs": [
    {
     "name": "stdout",
     "output_type": "stream",
     "text": [
      "Hello Python! My name is Python. I am a Python Developer.\n"
     ]
    }
   ],
   "source": [
    "string2 = 'Hello Python! My name is Python. I am a Python Developer.'\n",
    "\n",
    "print(string2)"
   ]
  },
  {
   "cell_type": "code",
   "execution_count": 26,
   "metadata": {},
   "outputs": [
    {
     "name": "stdout",
     "output_type": "stream",
     "text": [
      "Hello Python!\n",
      "My name is Python.\n",
      "I am a Python Developer.\n",
      "\n"
     ]
    }
   ],
   "source": [
    "string3 = \"\"\"Hello Python!\n",
    "My name is Python.\n",
    "I am a Python Developer.\n",
    "\"\"\"\n",
    "print(string3)"
   ]
  },
  {
   "cell_type": "code",
   "execution_count": 27,
   "metadata": {},
   "outputs": [
    {
     "name": "stdout",
     "output_type": "stream",
     "text": [
      "Hello Python!\n",
      "My name is Python.\n",
      "I am a Python Developer.\n",
      "\n"
     ]
    }
   ],
   "source": [
    "string4 = '''Hello Python!\n",
    "My name is Python.\n",
    "I am a Python Developer.\n",
    "'''\n",
    "print(string4)"
   ]
  },
  {
   "cell_type": "code",
   "execution_count": 28,
   "metadata": {},
   "outputs": [
    {
     "name": "stdout",
     "output_type": "stream",
     "text": [
      "Hello \tPython! \n",
      "My \tname \tis \tPython. \n",
      "I \tam \ta \tPython \tDeveloper.\n"
     ]
    }
   ],
   "source": [
    "string = 'Hello \\tPython! \\nMy \\tname \\tis \\tPython. \\nI \\tam \\ta \\tPython \\tDeveloper.'\n",
    "print(string)"
   ]
  },
  {
   "cell_type": "code",
   "execution_count": 29,
   "metadata": {},
   "outputs": [
    {
     "name": "stdout",
     "output_type": "stream",
     "text": [
      "Hello \t\\Python\\! \n",
      "My \tname \tis \t'Python'!. \n",
      "I \tam \ta \t\"Python\" \tDeveloper.\n"
     ]
    }
   ],
   "source": [
    "string = 'Hello \\t\\\\Python\\\\! \\nMy \\tname \\tis \\t\\'Python\\'!. \\nI \\tam \\ta \\t\\\"Python\\\" \\tDeveloper.'\n",
    "print(string)"
   ]
  },
  {
   "cell_type": "code",
   "execution_count": 30,
   "metadata": {},
   "outputs": [
    {
     "name": "stdout",
     "output_type": "stream",
     "text": [
      "Hello \\t\\\\Python\\\\! \\nMy \\tname \\tis \\t\\'Python\\'!. \\nI \\tam \\ta \\t\\\"Python\\\" \\tDeveloper.\n"
     ]
    }
   ],
   "source": [
    "string_r=r'Hello \\t\\\\Python\\\\! \\nMy \\tname \\tis \\t\\'Python\\'!. \\nI \\tam \\ta \\t\\\"Python\\\" \\tDeveloper.'\n",
    "print(string_r)"
   ]
  },
  {
   "cell_type": "code",
   "execution_count": 31,
   "metadata": {},
   "outputs": [
    {
     "name": "stdout",
     "output_type": "stream",
     "text": [
      "Hello Python! My name is Python. I am a Python Developer.\n"
     ]
    }
   ],
   "source": [
    "name='Python'\n",
    "\n",
    "string_f=f'Hello {name}! My name is {name}. I am a {name} Developer.'\n",
    "print(string_f)"
   ]
  },
  {
   "cell_type": "code",
   "execution_count": 32,
   "metadata": {},
   "outputs": [
    {
     "name": "stdout",
     "output_type": "stream",
     "text": [
      "\n",
      "==== 인덱싱(포인트) ====\n",
      "string[0] ='H'\n",
      "string[3] ='l'\n",
      "string[-1] ='.'\n",
      "string[-3] ='e'\n",
      "\n",
      "==== 슬라이싱(구간) ====\n",
      "string[0:5] ='Hello'\n",
      "string[6:12] ='Python'\n",
      "string[:5] ='Hello'\n",
      "string[6:] ='Python! My name is Python. I am a Python Developer.'\n",
      "string[6:-1] ='Python! My name is Python. I am a Python Developer'\n",
      "string[6:-3] ='Python! My name is Python. I am a Python Develop'\n",
      "\n",
      "==== 스텝(간격) ====\n",
      "- 인덱스 6부터 2칸씩 12전까지\n",
      "string[6:12:2] ='Pto'\n",
      "-처음부터 끝까지 2칸씩\n",
      "string[::2] ='HloPto!M aei yhn  maPto eeoe.'\n",
      "-처음부터 끝까지 거꾸로 1칸씩\n",
      "string[::-1] ='.repoleveD nohtyP a ma I .nohtyP si eman yM !nohtyP olleH'\n",
      "\n"
     ]
    }
   ],
   "source": [
    "string = \"Hello Python! My name is Python. I am a Python Developer.\"\n",
    "\n",
    "print(f'''\n",
    "==== 인덱싱(포인트) ====\n",
    "{string[0] =}\n",
    "{string[3] =}\n",
    "{string[-1] =}\n",
    "{string[-3] =}\n",
    "\n",
    "==== 슬라이싱(구간) ====\n",
    "{string[0:5] =}\n",
    "{string[6:12] =}\n",
    "{string[:5] =}\n",
    "{string[6:] =}\n",
    "{string[6:-1] =}\n",
    "{string[6:-3] =}\n",
    "\n",
    "==== 스텝(간격) ====\n",
    "- 인덱스 6부터 2칸씩 12전까지\n",
    "{string[6:12:2] =}\n",
    "-처음부터 끝까지 2칸씩\n",
    "{string[::2] =}\n",
    "-처음부터 끝까지 거꾸로 1칸씩\n",
    "{string[::-1] =}\n",
    "''')\n"
   ]
  },
  {
   "cell_type": "code",
   "execution_count": 33,
   "metadata": {},
   "outputs": [
    {
     "name": "stdout",
     "output_type": "stream",
     "text": [
      "Hello Python! My name is Python. I am a Python Developer.\n"
     ]
    }
   ],
   "source": [
    "string = \"Hello Python! \" + \"My name is Python. \" + \"I am a Python Developer.\"\n",
    "print(string)"
   ]
  },
  {
   "cell_type": "code",
   "execution_count": 34,
   "metadata": {},
   "outputs": [
    {
     "name": "stdout",
     "output_type": "stream",
     "text": [
      "Hello Python! Hello Python! Hello Python! \n"
     ]
    }
   ],
   "source": [
    "string = 'Hello Python! ' * 3\n",
    "print(string)"
   ]
  },
  {
   "cell_type": "code",
   "execution_count": 35,
   "metadata": {},
   "outputs": [
    {
     "name": "stdout",
     "output_type": "stream",
     "text": [
      "22\n",
      "True\n",
      "True\n"
     ]
    }
   ],
   "source": [
    "string = \"2024_바이오헬스 교과목 목록.xlsx\"\n",
    "\n",
    "#문자열 길이 \n",
    "print(len(string))\n",
    "\n",
    "#문자열에 2024가 들어있는지 확인\n",
    "print('2024' in string)\n",
    "\n",
    "#문자열에 'csv'가 들어있는지 확인\n",
    "print('csv' not in string)"
   ]
  },
  {
   "cell_type": "code",
   "execution_count": 36,
   "metadata": {},
   "outputs": [
    {
     "name": "stdout",
     "output_type": "stream",
     "text": [
      "my_dict1 ={} \n",
      "my_dict2 =()\n"
     ]
    }
   ],
   "source": [
    "my_dict1 = {}\n",
    "\n",
    "my_dict2 = ()\n",
    "\n",
    "print(f'{my_dict1 =} \\n{my_dict2 =}')"
   ]
  },
  {
   "cell_type": "code",
   "execution_count": 37,
   "metadata": {},
   "outputs": [
    {
     "name": "stdout",
     "output_type": "stream",
     "text": [
      "my_dict1 ={'name': 'Max', 'age': 28, 'city': 'New York'}\n",
      "my_dict2 ={'name': 'Max', 'age': 28, 'city': 'New York'}\n",
      "my_dict3 ={'name': 'Max', 'age': 28, 'city': 'New York'}\n"
     ]
    }
   ],
   "source": [
    "my_dict1 = {'name' : 'Max', 'age' : 28, 'city' : 'New York'} #중괄호로 생성\n",
    "\n",
    "my_dict2 = dict(name='Max',age=28,city='New York')\n",
    "\n",
    "my_dict3 = dict([('name','Max'), ('age',28), ('city','New York')])\n",
    "\n",
    "print(f'{my_dict1 =}\\n{my_dict2 =}\\n{my_dict3 =}')"
   ]
  },
  {
   "cell_type": "code",
   "execution_count": 38,
   "metadata": {},
   "outputs": [
    {
     "name": "stdout",
     "output_type": "stream",
     "text": [
      "my_dict4 ={'name': 'Max', 'age': 28, 'city': 'New York'}\n"
     ]
    }
   ],
   "source": [
    "person_keys = ['name','age','city']\n",
    "person_values = ['Max' , 28 , 'New York']\n",
    "\n",
    "#zip()으로 묶어서 dict()로 변환\n",
    "\n",
    "my_dict4 = dict(zip(person_keys,person_values))\n",
    "\n",
    "print(f'{my_dict4 =}')\n"
   ]
  },
  {
   "cell_type": "code",
   "execution_count": 39,
   "metadata": {},
   "outputs": [
    {
     "name": "stdout",
     "output_type": "stream",
     "text": [
      "my_dict_dict ={'A': {'name': 'Max', 'age': 28, 'city': 'New York'}, 'B': {'name': 'Mary', 'age': 22, 'city': 'Seoul'}}\n"
     ]
    }
   ],
   "source": [
    "my_dict_dict = {'A' : {'name' : 'Max', 'age' : 28 , 'city' : 'New York'},\n",
    "                'B' : {'name' : 'Mary', 'age' : 22, 'city' : 'Seoul'}}\n",
    "print(f'{my_dict_dict =}')\n"
   ]
  },
  {
   "cell_type": "code",
   "execution_count": 40,
   "metadata": {},
   "outputs": [
    {
     "name": "stdout",
     "output_type": "stream",
     "text": [
      "{'A': {'age': 28, 'city': 'New York', 'name': 'Max'},\n",
      " 'B': {'age': 22, 'city': 'Seoul', 'name': 'Mary'}}\n"
     ]
    }
   ],
   "source": [
    "from pprint import pprint\n",
    "pprint(my_dict_dict)"
   ]
  },
  {
   "cell_type": "code",
   "execution_count": 41,
   "metadata": {},
   "outputs": [
    {
     "name": "stdout",
     "output_type": "stream",
     "text": [
      "my_dict1 ={'name': 'Max', 'age': 28, 'city': 'New York'}\n",
      "type(my_dict1) =<class 'dict'>\n",
      "len(my_dict1) =3\n",
      "True\n",
      "False\n"
     ]
    }
   ],
   "source": [
    "print(f'{my_dict1 =}')\n",
    "\n",
    "print(f'{type(my_dict1) =}')\n",
    "\n",
    "print(f'{len(my_dict1) =}')\n",
    "\n",
    "print(\"name\" in my_dict1)\n",
    "\n",
    "print(\"Max\" in my_dict1)"
   ]
  },
  {
   "cell_type": "code",
   "execution_count": 42,
   "metadata": {},
   "outputs": [
    {
     "name": "stdout",
     "output_type": "stream",
     "text": [
      "my_dict1[\"name\"] ='Max'\n",
      "KeyError : 'name2'\n"
     ]
    }
   ],
   "source": [
    "print(f'{my_dict1[\"name\"] =}')\n",
    "\n",
    "try:\n",
    "    print(f'{my_dict1[\"name2\"] =}')\n",
    "except KeyError as e:\n",
    "    print(f'KeyError : {e}')"
   ]
  },
  {
   "cell_type": "code",
   "execution_count": 43,
   "metadata": {},
   "outputs": [
    {
     "name": "stdout",
     "output_type": "stream",
     "text": [
      "my_dict_dict[\"A\"][\"name\"] ='Max'\n"
     ]
    }
   ],
   "source": [
    "print(f'{my_dict_dict[\"A\"][\"name\"] =}')"
   ]
  },
  {
   "cell_type": "code",
   "execution_count": 44,
   "metadata": {},
   "outputs": [
    {
     "name": "stdout",
     "output_type": "stream",
     "text": [
      "my_dict1.get(\"name\") = 'Max'\n",
      "my_dict1.get(\"name2\") = None\n",
      "my_dict1.get(\"name2\",\"replacement\") ='replacement'\n"
     ]
    }
   ],
   "source": [
    "print(f'{my_dict1.get(\"name\") = }')\n",
    "\n",
    "print(f'{my_dict1.get(\"name2\") = }')\n",
    "\n",
    "print(f'{my_dict1.get(\"name2\",\"replacement\") =}')"
   ]
  },
  {
   "cell_type": "code",
   "execution_count": 45,
   "metadata": {},
   "outputs": [
    {
     "name": "stdout",
     "output_type": "stream",
     "text": [
      "my_dict1.keys() = dict_keys(['name', 'age', 'city'])\n",
      "my_dict1.values() = dict_values(['Max', 28, 'New York'])\n",
      "my_dict1.items() = dict_items([('name', 'Max'), ('age', 28), ('city', 'New York')])\n"
     ]
    }
   ],
   "source": [
    "print(f'{my_dict1.keys() = }')\n",
    "\n",
    "print(f'{my_dict1.values() = }')\n",
    "\n",
    "print(f'{my_dict1.items() = }')"
   ]
  },
  {
   "cell_type": "code",
   "execution_count": 46,
   "metadata": {},
   "outputs": [
    {
     "name": "stdout",
     "output_type": "stream",
     "text": [
      "my_dict1 ={'name': 'Max', 'age': 28, 'city': 'New York'} \n",
      "my_dict1 ={'name': 'Max', 'age': 28, 'city': 'New York', 'id': 123}\n"
     ]
    }
   ],
   "source": [
    "print(f'{my_dict1 =} ')\n",
    "\n",
    "my_dict1[\"id\"]=123\n",
    "print(f'{my_dict1 =}')"
   ]
  },
  {
   "cell_type": "code",
   "execution_count": 47,
   "metadata": {},
   "outputs": [
    {
     "name": "stdout",
     "output_type": "stream",
     "text": [
      "my_dict1 ={'name': 'Max', 'age': 28, 'city': 'New York'}\n"
     ]
    }
   ],
   "source": [
    "del my_dict1[\"id\"]\n",
    "\n",
    "print(f'{my_dict1 =}')"
   ]
  },
  {
   "cell_type": "code",
   "execution_count": 48,
   "metadata": {},
   "outputs": [
    {
     "name": "stdout",
     "output_type": "stream",
     "text": [
      "my_dict1 ={'name': 'Max', 'age': 30, 'city': 'New York'}\n"
     ]
    }
   ],
   "source": [
    "my_dict1[\"age\"]=30\n",
    "print(f'{my_dict1 =}')\n"
   ]
  },
  {
   "cell_type": "code",
   "execution_count": 49,
   "metadata": {},
   "outputs": [
    {
     "name": "stdout",
     "output_type": "stream",
     "text": [
      "my_dict1 ={'name': 'Max', 'age': 40, 'city': 'New York', 'id': 123, 'occupation': 'Data Scientist'}\n"
     ]
    }
   ],
   "source": [
    "my_dict1.update(age=40,id=123,occupation=\"Data Scientist\")\n",
    "print(f'{my_dict1 =}')\n"
   ]
  },
  {
   "cell_type": "code",
   "execution_count": 50,
   "metadata": {},
   "outputs": [
    {
     "name": "stdout",
     "output_type": "stream",
     "text": [
      "my_dict1 ={'name': 'Max', 'age': 50, 'city': 'New York', 'id': 123, 'occupation': 'Data Scientist', 'affiliation': 'Hongik Univ.'}\n"
     ]
    }
   ],
   "source": [
    "my_dict_more = {\"age\":50,\"affiliation\":\"Hongik Univ.\"}\n",
    "my_dict1.update(my_dict_more)\n",
    "print(f'{my_dict1 =}')"
   ]
  },
  {
   "cell_type": "code",
   "execution_count": 51,
   "metadata": {},
   "outputs": [
    {
     "name": "stdout",
     "output_type": "stream",
     "text": [
      "my_dict1 ={'name': 'Max', 'age': 50, 'city': 'New York', 'id': 123, 'occupation': 'Data Scientist'}\n"
     ]
    }
   ],
   "source": [
    "my_dict1.pop(\"affiliation\")\n",
    "print(f'{my_dict1 =}')"
   ]
  },
  {
   "cell_type": "code",
   "execution_count": 52,
   "metadata": {},
   "outputs": [
    {
     "name": "stdout",
     "output_type": "stream",
     "text": [
      "my_dict1 ={'name': 'Max', 'age': 50, 'city': 'New York', 'id': 123}\n",
      "occupation ='Data Scientist'\n"
     ]
    }
   ],
   "source": [
    "occupation =my_dict1.pop(\"occupation\")\n",
    "print(f'{my_dict1 =}\\n{occupation =}')"
   ]
  },
  {
   "cell_type": "code",
   "execution_count": 53,
   "metadata": {},
   "outputs": [
    {
     "name": "stdout",
     "output_type": "stream",
     "text": [
      "KeyError : 'occupation'\n",
      "occupation ='unknown'\n"
     ]
    }
   ],
   "source": [
    "try:\n",
    "    my_dict1.pop(\"occupation\")\n",
    "except KeyError as e:\n",
    "    print(f'KeyError : {e}')\n",
    "\n",
    "occupation = my_dict1.pop(\"occupation\",\"unknown\")\n",
    "print(f'{occupation =}')"
   ]
  },
  {
   "cell_type": "code",
   "execution_count": 54,
   "metadata": {},
   "outputs": [
    {
     "name": "stdout",
     "output_type": "stream",
     "text": [
      "my_dict1 = {'name': 'Max', 'age': 50, 'city': 'New York', 'id': 123}\n",
      "my_dict1 ={'name': 'Max', 'age': 50, 'city': 'New York'}\n",
      "last =('id', 123)\n",
      "my_dict1 ={'name': 'Max', 'age': 50}\n",
      "last =('city', 'New York')\n"
     ]
    }
   ],
   "source": [
    "print(f'{my_dict1 = }')\n",
    "\n",
    "last = my_dict1.popitem()\n",
    "print(f'{my_dict1 =}\\n{last =}')\n",
    "\n",
    "last =my_dict1.popitem()\n",
    "print(f'{my_dict1 =}\\n{last =}')\n"
   ]
  },
  {
   "cell_type": "code",
   "execution_count": 55,
   "metadata": {},
   "outputs": [
    {
     "name": "stdout",
     "output_type": "stream",
     "text": [
      "my_dict1 ={}\n"
     ]
    }
   ],
   "source": [
    "my_dict1.clear()\n",
    "print(f'{my_dict1 =}')"
   ]
  },
  {
   "cell_type": "markdown",
   "metadata": {},
   "source": [
    "## iterable 자료형 응용"
   ]
  },
  {
   "cell_type": "code",
   "execution_count": 57,
   "metadata": {},
   "outputs": [
    {
     "name": "stdout",
     "output_type": "stream",
     "text": [
      "my_dict1 ={'name': 'Max', 'age': 28, 'city': 'New York'}\n",
      "my_dict2 ={'name': 'Max', 'age': 28, 'city': 'New York'}\n",
      "my_dict3 ={'name': 'Max', 'age': 28, 'city': 'New York'}\n"
     ]
    }
   ],
   "source": [
    "# 똑같은 딕셔너리를 만드는 세가지 방법\n",
    "\n",
    "my_dict1 = {'name' : 'Max', 'age' : 28, 'city' : 'New York'} \n",
    "\n",
    "my_dict2 = dict(name='Max',age=28,city='New York') \n",
    "\n",
    "my_dict3 = dict([('name','Max'), ('age',28), ('city','New York')])\n",
    "\n",
    "print(f'{my_dict1 =}\\n{my_dict2 =}\\n{my_dict3 =}')"
   ]
  },
  {
   "cell_type": "code",
   "execution_count": null,
   "metadata": {},
   "outputs": [
    {
     "name": "stdout",
     "output_type": "stream",
     "text": [
      "{'name': [1, 2, 3, 4, 5], 'age': 28, 'city': 'New York'}\n"
     ]
    }
   ],
   "source": [
    "# value 값엔 리스트 값도 들어갈 수 있다\n",
    "name1 = 'name'\n",
    "name2 = [1,2,3,4,5]\n",
    "\n",
    "my_dict13 = {name1 : name2,'age' : 28, 'city' : 'New York'} \n",
    "\n",
    "print(my_dict13)\n"
   ]
  },
  {
   "cell_type": "code",
   "execution_count": 60,
   "metadata": {},
   "outputs": [
    {
     "ename": "TypeError",
     "evalue": "unhashable type: 'list'",
     "output_type": "error",
     "traceback": [
      "\u001b[31m---------------------------------------------------------------------------\u001b[39m",
      "\u001b[31mTypeError\u001b[39m                                 Traceback (most recent call last)",
      "\u001b[36mCell\u001b[39m\u001b[36m \u001b[39m\u001b[32mIn[60]\u001b[39m\u001b[32m, line 4\u001b[39m\n\u001b[32m      1\u001b[39m name1 = \u001b[33m'\u001b[39m\u001b[33mname\u001b[39m\u001b[33m'\u001b[39m\n\u001b[32m      2\u001b[39m name2 = [\u001b[32m1\u001b[39m,\u001b[32m2\u001b[39m,\u001b[32m3\u001b[39m,\u001b[32m4\u001b[39m,\u001b[32m5\u001b[39m]\n\u001b[32m----> \u001b[39m\u001b[32m4\u001b[39m my_dict13 = {name2 : name1,\u001b[33m'\u001b[39m\u001b[33mage\u001b[39m\u001b[33m'\u001b[39m : \u001b[32m28\u001b[39m, \u001b[33m'\u001b[39m\u001b[33mcity\u001b[39m\u001b[33m'\u001b[39m : \u001b[33m'\u001b[39m\u001b[33mNew York\u001b[39m\u001b[33m'\u001b[39m} \n\u001b[32m      6\u001b[39m \u001b[38;5;28mprint\u001b[39m(my_dict13)\n\u001b[32m      8\u001b[39m \u001b[38;5;66;03m#리스트는 key로 받을 수 없다\u001b[39;00m\n\u001b[32m      9\u001b[39m \u001b[38;5;66;03m#값이 하나인 것만 key로 받을 수 있다\u001b[39;00m\n",
      "\u001b[31mTypeError\u001b[39m: unhashable type: 'list'"
     ]
    }
   ],
   "source": [
    "name1 = 'name'\n",
    "name2 = [1,2,3,4,5]\n",
    "\n",
    "my_dict13 = {name2 : name1,'age' : 28, 'city' : 'New York'} \n",
    "\n",
    "print(my_dict13)\n",
    "\n",
    "#리스트는 key로 받을 수 없다\n",
    "#값이 하나인 것만 key로 받을 수 있다"
   ]
  }
 ],
 "metadata": {
  "kernelspec": {
   "display_name": "base",
   "language": "python",
   "name": "python3"
  },
  "language_info": {
   "codemirror_mode": {
    "name": "ipython",
    "version": 3
   },
   "file_extension": ".py",
   "mimetype": "text/x-python",
   "name": "python",
   "nbconvert_exporter": "python",
   "pygments_lexer": "ipython3",
   "version": "3.12.9"
  }
 },
 "nbformat": 4,
 "nbformat_minor": 2
}
