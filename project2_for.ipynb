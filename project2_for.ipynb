{
 "cells": [
  {
   "cell_type": "markdown",
   "id": "7c696fbd",
   "metadata": {},
   "source": [
    "# C521018 김은빈\n",
    "\n",
    "## 제어문\n",
    "## 제어문 기본"
   ]
  },
  {
   "cell_type": "code",
   "execution_count": 1,
   "id": "b2536966",
   "metadata": {},
   "outputs": [
    {
     "name": "stdout",
     "output_type": "stream",
     "text": [
      "조건이 참입니다.\n",
      "조건문이 종료되었습니다.\n"
     ]
    }
   ],
   "source": [
    "if True:\n",
    "    print('조건이 참입니다.')\n",
    "\n",
    "print('조건문이 종료되었습니다.')"
   ]
  },
  {
   "cell_type": "code",
   "execution_count": 2,
   "id": "698e4c92",
   "metadata": {},
   "outputs": [
    {
     "name": "stdout",
     "output_type": "stream",
     "text": [
      "조건문이 종료되었습니다.\n"
     ]
    }
   ],
   "source": [
    "if False:\n",
    "    print('조건이 참입니다.')\n",
    "print('조건문이 종료되었습니다.')"
   ]
  },
  {
   "cell_type": "code",
   "execution_count": 3,
   "id": "3b8473b3",
   "metadata": {},
   "outputs": [
    {
     "name": "stdout",
     "output_type": "stream",
     "text": [
      "걸어간다.\n"
     ]
    }
   ],
   "source": [
    "money = 100\n",
    "\n",
    "if money <= 500:\n",
    "    print('걸어간다.')"
   ]
  },
  {
   "cell_type": "code",
   "execution_count": 4,
   "id": "efc24d3d",
   "metadata": {},
   "outputs": [
    {
     "name": "stdout",
     "output_type": "stream",
     "text": [
      "택시탄다.\n"
     ]
    }
   ],
   "source": [
    "money = 1000\n",
    "if money <= 500:\n",
    "    print('걸어간다.')\n",
    "else:\n",
    "    print('택시탄다.')"
   ]
  },
  {
   "cell_type": "code",
   "execution_count": 5,
   "id": "98cbed5f",
   "metadata": {},
   "outputs": [
    {
     "name": "stdout",
     "output_type": "stream",
     "text": [
      "버스탄다.\n"
     ]
    }
   ],
   "source": [
    "money = 1000\n",
    "if money<=500:\n",
    "    print('걸어간다.')\n",
    "elif money<=2500:\n",
    "    print('버스탄다.')\n",
    "else:\n",
    "    print('택시탄다.')"
   ]
  },
  {
   "cell_type": "code",
   "execution_count": 6,
   "id": "f4cf91be",
   "metadata": {},
   "outputs": [
    {
     "name": "stdout",
     "output_type": "stream",
     "text": [
      "n= 1\n",
      "n= 2\n",
      "n= 3\n",
      "n= 4\n",
      "n= 5\n"
     ]
    }
   ],
   "source": [
    "n = 0\n",
    "\n",
    "while n < 5:\n",
    "    n=n+1\n",
    "    print('n=',n)"
   ]
  },
  {
   "cell_type": "code",
   "execution_count": 7,
   "id": "476a9d4f",
   "metadata": {},
   "outputs": [
    {
     "name": "stdout",
     "output_type": "stream",
     "text": [
      "n= 0\n",
      "n= 1\n",
      "n= 2\n",
      "n= 3\n",
      "n= 4\n",
      "n= 5\n"
     ]
    }
   ],
   "source": [
    "for n in range(0,6):\n",
    "    print('n=',n)"
   ]
  },
  {
   "cell_type": "code",
   "execution_count": 11,
   "id": "35eda867",
   "metadata": {},
   "outputs": [
    {
     "name": "stdout",
     "output_type": "stream",
     "text": [
      "item =1\n",
      "item =2\n",
      "item =3\n",
      "item =4\n",
      "item =5\n"
     ]
    }
   ],
   "source": [
    "x_list = [1,2,3,4,5]\n",
    "\n",
    "for item in x_list:\n",
    "    print(f'{item =}')"
   ]
  },
  {
   "cell_type": "code",
   "execution_count": 12,
   "id": "435d0672",
   "metadata": {},
   "outputs": [
    {
     "name": "stdout",
     "output_type": "stream",
     "text": [
      "<built-in function len>(x) = 5\n",
      "<built-in function max>(x) = 50\n",
      "<built-in function sum>(x) = 150\n"
     ]
    }
   ],
   "source": [
    "x= [10,20,30,40,50]\n",
    "\n",
    "for method in [len,max,sum]:\n",
    "    print(f'{method}(x) = {method(x)}')"
   ]
  },
  {
   "cell_type": "code",
   "execution_count": 13,
   "id": "f22c02b1",
   "metadata": {},
   "outputs": [
    {
     "name": "stdout",
     "output_type": "stream",
     "text": [
      "item =(0, 'a')\n",
      "item =(1, 'b')\n",
      "item =(2, 'c')\n",
      "item =(3, 'd')\n",
      "item =(4, 'e')\n"
     ]
    }
   ],
   "source": [
    "for item in enumerate(['a','b','c','d','e']):\n",
    "    print(f'{item =}')"
   ]
  },
  {
   "cell_type": "code",
   "execution_count": 14,
   "id": "5ccf6157",
   "metadata": {},
   "outputs": [
    {
     "name": "stdout",
     "output_type": "stream",
     "text": [
      "i = 0, item ='a'\n",
      "i = 1, item ='b'\n",
      "i = 2, item ='c'\n",
      "i = 3, item ='d'\n",
      "i = 4, item ='e'\n"
     ]
    }
   ],
   "source": [
    "for i, item in enumerate(['a','b','c','d','e']):\n",
    "    print(f'{i = }, {item =}')"
   ]
  },
  {
   "cell_type": "code",
   "execution_count": 15,
   "id": "4c8e11c9",
   "metadata": {},
   "outputs": [
    {
     "data": {
      "text/plain": [
       "<zip at 0x126b1951600>"
      ]
     },
     "execution_count": 15,
     "metadata": {},
     "output_type": "execute_result"
    }
   ],
   "source": [
    "x_list = [1,2,3,4,5]\n",
    "y_tuple = ('a','b','c','d','e')\n",
    "z_str = 'ABCDE'\n",
    "\n",
    "zip(x_list, y_tuple, z_str)"
   ]
  },
  {
   "cell_type": "code",
   "execution_count": 16,
   "id": "e9acf43d",
   "metadata": {},
   "outputs": [
    {
     "data": {
      "text/plain": [
       "[(1, 'a', 'A'), (2, 'b', 'B'), (3, 'c', 'C'), (4, 'd', 'D'), (5, 'e', 'E')]"
      ]
     },
     "execution_count": 16,
     "metadata": {},
     "output_type": "execute_result"
    }
   ],
   "source": [
    "list(zip(x_list,y_tuple,z_str))"
   ]
  },
  {
   "cell_type": "code",
   "execution_count": 17,
   "id": "e8511feb",
   "metadata": {},
   "outputs": [
    {
     "name": "stdout",
     "output_type": "stream",
     "text": [
      "x =1,y ='a',z= 'A'\n",
      "x =2,y ='b',z= 'B'\n",
      "x =3,y ='c',z= 'C'\n",
      "x =4,y ='d',z= 'D'\n",
      "x =5,y ='e',z= 'E'\n"
     ]
    }
   ],
   "source": [
    "for x,y,z in zip(x_list,y_tuple,z_str):\n",
    "    print(f'{x =},{y =},{z= }')"
   ]
  },
  {
   "cell_type": "code",
   "execution_count": 18,
   "id": "23b2e78b",
   "metadata": {},
   "outputs": [
    {
     "name": "stdout",
     "output_type": "stream",
     "text": [
      "i =0,x =1,y ='a',z ='A'\n",
      "i =1,x =2,y ='b',z ='B'\n",
      "i =2,x =3,y ='c',z ='C'\n",
      "i =3,x =4,y ='d',z ='D'\n",
      "i =4,x =5,y ='e',z ='E'\n"
     ]
    }
   ],
   "source": [
    "for i, (x,y,z) in enumerate(zip(x_list,y_tuple,z_str)):\n",
    "    print(f'{i =},{x =},{y =},{z =}')"
   ]
  },
  {
   "cell_type": "code",
   "execution_count": 19,
   "id": "7d089898",
   "metadata": {},
   "outputs": [
    {
     "name": "stdout",
     "output_type": "stream",
     "text": [
      "i =0,item ='a'\n",
      "i =1,item ='b'\n"
     ]
    }
   ],
   "source": [
    "for i, item in enumerate(['a','b','c','d','e']):\n",
    "\n",
    "    if i ==2 :\n",
    "        break\n",
    "\n",
    "    print(f'{i =},{item =}')"
   ]
  },
  {
   "cell_type": "code",
   "execution_count": 20,
   "id": "6442b56d",
   "metadata": {},
   "outputs": [
    {
     "name": "stdout",
     "output_type": "stream",
     "text": [
      "i =0,item ='a'\n",
      "i =1,item ='b'\n",
      "i =3,item ='d'\n",
      "i =4,item ='e'\n"
     ]
    }
   ],
   "source": [
    "for i,item in enumerate(['a','b','c','d','e']):\n",
    "    if i == 2:\n",
    "        continue\n",
    "    print(f'{i =},{item =}')"
   ]
  },
  {
   "cell_type": "code",
   "execution_count": 21,
   "id": "7acdfd45",
   "metadata": {},
   "outputs": [
    {
     "name": "stdout",
     "output_type": "stream",
     "text": [
      "i =0,item ='a'\n",
      "i =1,item ='b'\n",
      "i =2,item ='c'\n",
      "i =3,item ='d'\n",
      "i =4,item ='e'\n"
     ]
    }
   ],
   "source": [
    "for i,item in enumerate(['a','b','c','d','e']):\n",
    "    if i == 2:\n",
    "        pass\n",
    "    print(f'{i =},{item =}')"
   ]
  },
  {
   "cell_type": "code",
   "execution_count": 22,
   "id": "d42d615e",
   "metadata": {},
   "outputs": [
    {
     "name": "stdout",
     "output_type": "stream",
     "text": [
      "i =0,item ='a'\n",
      "i =1,item ='b'\n",
      "여기에서 실제로는 종료됨. 편의상 주석으로 처리\n",
      "i =2,item ='c'\n",
      "i =3,item ='d'\n",
      "i =4,item ='e'\n"
     ]
    }
   ],
   "source": [
    "for i,item in enumerate(['a','b','c','d','e']):\n",
    "    if i == 2:\n",
    "        #프로그램을 종료\n",
    "        #0은 정상 종료를 뜻함\n",
    "        #exit(0)\n",
    "        print('여기에서 실제로는 종료됨. 편의상 주석으로 처리')\n",
    "    print(f'{i =},{item =}')"
   ]
  },
  {
   "cell_type": "code",
   "execution_count": null,
   "id": "70e88fd5",
   "metadata": {},
   "outputs": [
    {
     "name": "stdout",
     "output_type": "stream",
     "text": [
      "1X1= 1\t2X1= 2\t3X1= 3\t4X1= 4\t5X1= 5\t6X1= 6\t7X1= 7\t8X1= 8\t9X1= 9\t\n",
      "1X2= 2\t2X2= 4\t3X2= 6\t4X2= 8\t5X2=10\t6X2=12\t7X2=14\t8X2=16\t9X2=18\t\n",
      "1X3= 3\t2X3= 6\t3X3= 9\t4X3=12\t5X3=15\t6X3=18\t7X3=21\t8X3=24\t9X3=27\t\n",
      "1X4= 4\t2X4= 8\t3X4=12\t4X4=16\t5X4=20\t6X4=24\t7X4=28\t8X4=32\t9X4=36\t\n",
      "1X5= 5\t2X5=10\t3X5=15\t4X5=20\t5X5=25\t6X5=30\t7X5=35\t8X5=40\t9X5=45\t\n",
      "1X6= 6\t2X6=12\t3X6=18\t4X6=24\t5X6=30\t6X6=36\t7X6=42\t8X6=48\t9X6=54\t\n",
      "1X7= 7\t2X7=14\t3X7=21\t4X7=28\t5X7=35\t6X7=42\t7X7=49\t8X7=56\t9X7=63\t\n",
      "1X8= 8\t2X8=16\t3X8=24\t4X8=32\t5X8=40\t6X8=48\t7X8=56\t8X8=64\t9X8=72\t\n",
      "1X9= 9\t2X9=18\t3X9=27\t4X9=36\t5X9=45\t6X9=54\t7X9=63\t8X9=72\t9X9=81\t\n"
     ]
    }
   ],
   "source": [
    "for i in range(1,10):\n",
    "    for j in range(1,10):\n",
    "\n",
    "        print(f'{j}X{i}={j*i:>2d}',end='\\t') #:>2d => 총 두 자리에 오른쪽 정렬로 표기\n",
    "\n",
    "        if j == 9:\n",
    "            print()"
   ]
  },
  {
   "cell_type": "markdown",
   "id": "c59b2856",
   "metadata": {},
   "source": [
    "## 제어문 응용"
   ]
  },
  {
   "cell_type": "code",
   "execution_count": 30,
   "id": "bdba8d89",
   "metadata": {},
   "outputs": [
    {
     "name": "stdout",
     "output_type": "stream",
     "text": [
      " 1x 1=  1   2x 1=  2   3x 1=  3   4x 1=  4   5x 1=  5   6x 1=  6   7x 1=  7   8x 1=  8   9x 1=  9  10x 1= 10  11x 1= 11  12x 1= 12  13x 1= 13  14x 1= 14  15x 1= 15  16x 1= 16  17x 1= 17  18x 1= 18  19x 1= 19  20x 1= 20  \n",
      " 1x 2=  2   2x 2=  4   3x 2=  6   4x 2=  8   5x 2= 10   6x 2= 12   7x 2= 14   8x 2= 16   9x 2= 18  10x 2= 20  11x 2= 22  12x 2= 24  13x 2= 26  14x 2= 28  15x 2= 30  16x 2= 32  17x 2= 34  18x 2= 36  19x 2= 38  20x 2= 40  \n",
      " 1x 3=  3   2x 3=  6   3x 3=  9   4x 3= 12   5x 3= 15   6x 3= 18   7x 3= 21   8x 3= 24   9x 3= 27  10x 3= 30  11x 3= 33  12x 3= 36  13x 3= 39  14x 3= 42  15x 3= 45  16x 3= 48  17x 3= 51  18x 3= 54  19x 3= 57  20x 3= 60  \n",
      " 1x 4=  4   2x 4=  8   3x 4= 12   4x 4= 16   5x 4= 20   6x 4= 24   7x 4= 28   8x 4= 32   9x 4= 36  10x 4= 40  11x 4= 44  12x 4= 48  13x 4= 52  14x 4= 56  15x 4= 60  16x 4= 64  17x 4= 68  18x 4= 72  19x 4= 76  20x 4= 80  \n",
      " 1x 5=  5   2x 5= 10   3x 5= 15   4x 5= 20   5x 5= 25   6x 5= 30   7x 5= 35   8x 5= 40   9x 5= 45  10x 5= 50  11x 5= 55  12x 5= 60  13x 5= 65  14x 5= 70  15x 5= 75  16x 5= 80  17x 5= 85  18x 5= 90  19x 5= 95  20x 5=100  \n",
      " 1x 6=  6   2x 6= 12   3x 6= 18   4x 6= 24   5x 6= 30   6x 6= 36   7x 6= 42   8x 6= 48   9x 6= 54  10x 6= 60  11x 6= 66  12x 6= 72  13x 6= 78  14x 6= 84  15x 6= 90  16x 6= 96  17x 6=102  18x 6=108  19x 6=114  20x 6=120  \n",
      " 1x 7=  7   2x 7= 14   3x 7= 21   4x 7= 28   5x 7= 35   6x 7= 42   7x 7= 49   8x 7= 56   9x 7= 63  10x 7= 70  11x 7= 77  12x 7= 84  13x 7= 91  14x 7= 98  15x 7=105  16x 7=112  17x 7=119  18x 7=126  19x 7=133  20x 7=140  \n",
      " 1x 8=  8   2x 8= 16   3x 8= 24   4x 8= 32   5x 8= 40   6x 8= 48   7x 8= 56   8x 8= 64   9x 8= 72  10x 8= 80  11x 8= 88  12x 8= 96  13x 8=104  14x 8=112  15x 8=120  16x 8=128  17x 8=136  18x 8=144  19x 8=152  20x 8=160  \n",
      " 1x 9=  9   2x 9= 18   3x 9= 27   4x 9= 36   5x 9= 45   6x 9= 54   7x 9= 63   8x 9= 72   9x 9= 81  10x 9= 90  11x 9= 99  12x 9=108  13x 9=117  14x 9=126  15x 9=135  16x 9=144  17x 9=153  18x 9=162  19x 9=171  20x 9=180  \n",
      " 1x10= 10   2x10= 20   3x10= 30   4x10= 40   5x10= 50   6x10= 60   7x10= 70   8x10= 80   9x10= 90  10x10=100  11x10=110  12x10=120  13x10=130  14x10=140  15x10=150  16x10=160  17x10=170  18x10=180  19x10=190  20x10=200  \n",
      " 1x11= 11   2x11= 22   3x11= 33   4x11= 44   5x11= 55   6x11= 66   7x11= 77   8x11= 88   9x11= 99  10x11=110  11x11=121  12x11=132  13x11=143  14x11=154  15x11=165  16x11=176  17x11=187  18x11=198  19x11=209  20x11=220  \n",
      " 1x12= 12   2x12= 24   3x12= 36   4x12= 48   5x12= 60   6x12= 72   7x12= 84   8x12= 96   9x12=108  10x12=120  11x12=132  12x12=144  13x12=156  14x12=168  15x12=180  16x12=192  17x12=204  18x12=216  19x12=228  20x12=240  \n",
      " 1x13= 13   2x13= 26   3x13= 39   4x13= 52   5x13= 65   6x13= 78   7x13= 91   8x13=104   9x13=117  10x13=130  11x13=143  12x13=156  13x13=169  14x13=182  15x13=195  16x13=208  17x13=221  18x13=234  19x13=247  20x13=260  \n",
      " 1x14= 14   2x14= 28   3x14= 42   4x14= 56   5x14= 70   6x14= 84   7x14= 98   8x14=112   9x14=126  10x14=140  11x14=154  12x14=168  13x14=182  14x14=196  15x14=210  16x14=224  17x14=238  18x14=252  19x14=266  20x14=280  \n",
      " 1x15= 15   2x15= 30   3x15= 45   4x15= 60   5x15= 75   6x15= 90   7x15=105   8x15=120   9x15=135  10x15=150  11x15=165  12x15=180  13x15=195  14x15=210  15x15=225  16x15=240  17x15=255  18x15=270  19x15=285  20x15=300  \n",
      " 1x16= 16   2x16= 32   3x16= 48   4x16= 64   5x16= 80   6x16= 96   7x16=112   8x16=128   9x16=144  10x16=160  11x16=176  12x16=192  13x16=208  14x16=224  15x16=240  16x16=256  17x16=272  18x16=288  19x16=304  20x16=320  \n",
      " 1x17= 17   2x17= 34   3x17= 51   4x17= 68   5x17= 85   6x17=102   7x17=119   8x17=136   9x17=153  10x17=170  11x17=187  12x17=204  13x17=221  14x17=238  15x17=255  16x17=272  17x17=289  18x17=306  19x17=323  20x17=340  \n",
      " 1x18= 18   2x18= 36   3x18= 54   4x18= 72   5x18= 90   6x18=108   7x18=126   8x18=144   9x18=162  10x18=180  11x18=198  12x18=216  13x18=234  14x18=252  15x18=270  16x18=288  17x18=306  18x18=324  19x18=342  20x18=360  \n",
      " 1x19= 19   2x19= 38   3x19= 57   4x19= 76   5x19= 95   6x19=114   7x19=133   8x19=152   9x19=171  10x19=190  11x19=209  12x19=228  13x19=247  14x19=266  15x19=285  16x19=304  17x19=323  18x19=342  19x19=361  20x19=380  \n",
      " 1x20= 20   2x20= 40   3x20= 60   4x20= 80   5x20=100   6x20=120   7x20=140   8x20=160   9x20=180  10x20=200  11x20=220  12x20=240  13x20=260  14x20=280  15x20=300  16x20=320  17x20=340  18x20=360  19x20=380  20x20=400  \n"
     ]
    }
   ],
   "source": [
    "#20단 까지 줄 맞추어서 표기\n",
    "\n",
    "for i in range(1,21):\n",
    "    for j in range(1,21):\n",
    "        print(f'{j:>2d}x{i:>2d}={j*i:>3d}',end='  ')\n",
    "\n",
    "        if j == 20:\n",
    "\n",
    "            print()"
   ]
  },
  {
   "cell_type": "code",
   "execution_count": 34,
   "id": "22bec931",
   "metadata": {},
   "outputs": [
    {
     "name": "stdout",
     "output_type": "stream",
     "text": [
      " 2X 2=  4   4X 2=  8   6X 2= 12   8X 2= 16  10X 2= 20  12X 2= 24  14X 2= 28  16X 2= 32  18X 2= 36  20X 2= 40  \n",
      " 2X 4=  8   4X 4= 16   6X 4= 24   8X 4= 32  10X 4= 40  12X 4= 48  14X 4= 56  16X 4= 64  18X 4= 72  20X 4= 80  \n",
      " 2X 6= 12   4X 6= 24   6X 6= 36   8X 6= 48  10X 6= 60  12X 6= 72  14X 6= 84  16X 6= 96  18X 6=108  20X 6=120  \n",
      " 2X 8= 16   4X 8= 32   6X 8= 48   8X 8= 64  10X 8= 80  12X 8= 96  14X 8=112  16X 8=128  18X 8=144  20X 8=160  \n",
      " 2X10= 20   4X10= 40   6X10= 60   8X10= 80  10X10=100  12X10=120  14X10=140  16X10=160  18X10=180  20X10=200  \n",
      " 2X12= 24   4X12= 48   6X12= 72   8X12= 96  10X12=120  12X12=144  14X12=168  16X12=192  18X12=216  20X12=240  \n",
      " 2X14= 28   4X14= 56   6X14= 84   8X14=112  10X14=140  12X14=168  14X14=196  16X14=224  18X14=252  20X14=280  \n",
      " 2X16= 32   4X16= 64   6X16= 96   8X16=128  10X16=160  12X16=192  14X16=224  16X16=256  18X16=288  20X16=320  \n",
      " 2X18= 36   4X18= 72   6X18=108   8X18=144  10X18=180  12X18=216  14X18=252  16X18=288  18X18=324  20X18=360  \n",
      " 2X20= 40   4X20= 80   6X20=120   8X20=160  10X20=200  12X20=240  14X20=280  16X20=320  18X20=360  20X20=400  \n"
     ]
    }
   ],
   "source": [
    "#20단까지 짝수만 남기고 줄 맞추어서 표기\n",
    "\n",
    "for i in range(2,21,2):\n",
    "    for j in range(2,21,2):\n",
    "\n",
    "        print(f'{j:>2d}X{i:>2d}={j*i:>3d}',end='  ')\n",
    "\n",
    "        if j == 20:\n",
    "            print()"
   ]
  },
  {
   "cell_type": "code",
   "execution_count": null,
   "id": "13e9b7a0",
   "metadata": {},
   "outputs": [],
   "source": []
  }
 ],
 "metadata": {
  "kernelspec": {
   "display_name": "base",
   "language": "python",
   "name": "python3"
  },
  "language_info": {
   "codemirror_mode": {
    "name": "ipython",
    "version": 3
   },
   "file_extension": ".py",
   "mimetype": "text/x-python",
   "name": "python",
   "nbconvert_exporter": "python",
   "pygments_lexer": "ipython3",
   "version": "3.12.9"
  }
 },
 "nbformat": 4,
 "nbformat_minor": 5
}
