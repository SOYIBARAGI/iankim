{
 "cells": [
  {
   "cell_type": "markdown",
   "metadata": {},
   "source": [
    "# C521018 김은빈"
   ]
  },
  {
   "cell_type": "markdown",
   "metadata": {},
   "source": [
    "# 2.데이터 유형\n",
    "## 데이터 유형 기본\n"
   ]
  },
  {
   "cell_type": "code",
   "execution_count": 1,
   "metadata": {},
   "outputs": [
    {
     "name": "stdout",
     "output_type": "stream",
     "text": [
      "x_value =12345\n",
      "type(x_value) = <class 'int'>\n"
     ]
    }
   ],
   "source": [
    "x_value = 12345\n",
    "\n",
    "print(f'{x_value =}\\n{type(x_value) = }')\n"
   ]
  },
  {
   "cell_type": "code",
   "execution_count": 2,
   "metadata": {},
   "outputs": [
    {
     "name": "stdout",
     "output_type": "stream",
     "text": [
      "x_str = 'abcde'\n",
      " type(x_str) = <class 'str'>\n"
     ]
    }
   ],
   "source": [
    "x_str = 'abcde'\n",
    "\n",
    "print(f'{x_str = }\\n {type(x_str) = }')"
   ]
  },
  {
   "cell_type": "code",
   "execution_count": 3,
   "metadata": {},
   "outputs": [
    {
     "name": "stdout",
     "output_type": "stream",
     "text": [
      "x_list = ['abcde', 12345]\n",
      "type(x_list) = <class 'list'>\n"
     ]
    }
   ],
   "source": [
    "x_list = [x_str,x_value]\n",
    "\n",
    "print(f'{x_list = }\\n{type(x_list) = }')"
   ]
  },
  {
   "cell_type": "code",
   "execution_count": 4,
   "metadata": {},
   "outputs": [
    {
     "name": "stdout",
     "output_type": "stream",
     "text": [
      "x_tuple =('abcde', 12345)\n",
      "type(x_tuple) =<class 'tuple'>\n"
     ]
    }
   ],
   "source": [
    "x_tuple = (x_str,x_value)\n",
    "\n",
    "print(f'{x_tuple =}\\n{type(x_tuple) =}')\n"
   ]
  },
  {
   "cell_type": "code",
   "execution_count": 5,
   "metadata": {},
   "outputs": [
    {
     "name": "stdout",
     "output_type": "stream",
     "text": [
      "x_dict ={'name': 'Chunghun Ha', 'id': 67890}\n",
      "type(x_dict) =<class 'dict'>\n"
     ]
    }
   ],
   "source": [
    "x_dict = {'name' : 'Chunghun Ha','id':67890}\n",
    "\n",
    "print(f'{x_dict =}\\n{type(x_dict) =}')"
   ]
  },
  {
   "cell_type": "code",
   "execution_count": 6,
   "metadata": {},
   "outputs": [
    {
     "name": "stdout",
     "output_type": "stream",
     "text": [
      "x_none =None\n",
      "type(x_none) =<class 'NoneType'>\n"
     ]
    }
   ],
   "source": [
    "x_none = None\n",
    "\n",
    "print(f'{x_none =}\\n{type(x_none) =}')"
   ]
  },
  {
   "cell_type": "code",
   "execution_count": 7,
   "metadata": {},
   "outputs": [
    {
     "name": "stdout",
     "output_type": "stream",
     "text": [
      "['__abs__', '__add__', '__and__', '__bool__', '__ceil__', '__class__', '__delattr__', '__dir__', '__divmod__', '__doc__', '__eq__', '__float__', '__floor__', '__floordiv__', '__format__', '__ge__', '__getattribute__', '__getnewargs__', '__getstate__', '__gt__', '__hash__', '__index__', '__init__', '__init_subclass__', '__int__', '__invert__', '__le__', '__lshift__', '__lt__', '__mod__', '__mul__', '__ne__', '__neg__', '__new__', '__or__', '__pos__', '__pow__', '__radd__', '__rand__', '__rdivmod__', '__reduce__', '__reduce_ex__', '__repr__', '__rfloordiv__', '__rlshift__', '__rmod__', '__rmul__', '__ror__', '__round__', '__rpow__', '__rrshift__', '__rshift__', '__rsub__', '__rtruediv__', '__rxor__', '__setattr__', '__sizeof__', '__str__', '__sub__', '__subclasshook__', '__truediv__', '__trunc__', '__xor__', 'as_integer_ratio', 'bit_count', 'bit_length', 'conjugate', 'denominator', 'from_bytes', 'imag', 'is_integer', 'numerator', 'real', 'to_bytes']\n"
     ]
    }
   ],
   "source": [
    "print(dir(x_value))"
   ]
  },
  {
   "cell_type": "code",
   "execution_count": 8,
   "metadata": {},
   "outputs": [
    {
     "name": "stdout",
     "output_type": "stream",
     "text": [
      "x_value.real =12345\n",
      "x_value.bit_length() = 14\n"
     ]
    }
   ],
   "source": [
    "print(f'{x_value.real =}')\n",
    "\n",
    "print(f'{x_value.bit_length() = }')"
   ]
  },
  {
   "cell_type": "code",
   "execution_count": 9,
   "metadata": {},
   "outputs": [
    {
     "name": "stdout",
     "output_type": "stream",
     "text": [
      "Before : x_list = ['abcde', 12345]\n",
      "After : x_list = ['abcde', 'fghij']\n"
     ]
    }
   ],
   "source": [
    "x_list = ['abcde',12345]\n",
    "\n",
    "print(f'Before : {x_list = }')\n",
    "\n",
    "x_list[1]='fghij'\n",
    "\n",
    "print(f'After : {x_list = }')"
   ]
  },
  {
   "cell_type": "code",
   "execution_count": 10,
   "metadata": {},
   "outputs": [
    {
     "name": "stdout",
     "output_type": "stream",
     "text": [
      "Before : x_dict = {'name': 'Chunghun Ha', 'id': 67890}\n",
      "After : x_dict = {'name': 'Gildong Hong', 'id': 67890}\n"
     ]
    }
   ],
   "source": [
    "x_dict = {'name' : 'Chunghun Ha','id':67890}\n",
    "\n",
    "print(f'Before : {x_dict = }')\n",
    "\n",
    "x_dict['name'] = 'Gildong Hong'\n",
    "\n",
    "print(f'After : {x_dict = }')\n",
    "\n"
   ]
  },
  {
   "cell_type": "code",
   "execution_count": 11,
   "metadata": {},
   "outputs": [
    {
     "name": "stdout",
     "output_type": "stream",
     "text": [
      "Before : x_str = 'abcde'\n",
      "Error : 'str' object does not support item assignment\n",
      "After : x_str = 'abcde'\n"
     ]
    }
   ],
   "source": [
    "x_str = 'abcde'\n",
    "\n",
    "print(f'Before : {x_str = }')\n",
    "\n",
    "try:\n",
    "    x_str[1]='2'\n",
    "except TypeError as e:\n",
    "\n",
    "    print(f'Error : {e}')\n",
    "\n",
    "print(f'After : {x_str = }')"
   ]
  },
  {
   "cell_type": "code",
   "execution_count": 12,
   "metadata": {},
   "outputs": [
    {
     "name": "stdout",
     "output_type": "stream",
     "text": [
      "Before : x_tuple =('abcde', 12345)\n",
      "Error : 'tuple' object does not support item assignment\n",
      "After : x_tuple =('abcde', 12345)\n"
     ]
    }
   ],
   "source": [
    "x_tuple = ('abcde',12345)\n",
    "\n",
    "print(f'Before : {x_tuple =}')\n",
    "\n",
    "try:\n",
    "    x_tuple[1] = 'fghij'\n",
    "\n",
    "except TypeError as e:\n",
    "    print(f'Error : {e}')\n",
    "\n",
    "print(f'After : {x_tuple =}')"
   ]
  },
  {
   "cell_type": "code",
   "execution_count": 13,
   "metadata": {},
   "outputs": [
    {
     "name": "stdout",
     "output_type": "stream",
     "text": [
      "12345는 <class 'int'>\n",
      "------------------------------\n",
      "12345.0는 <class 'float'>\n",
      "------------------------------\n",
      "12345는 <class 'str'>\n",
      "------------------------------\n",
      "True는 <class 'bool'>\n"
     ]
    }
   ],
   "source": [
    "var_x = 12345\n",
    "\n",
    "print(f'{var_x}는 {type(var_x)}', end='\\n'+'-'*30+'\\n')\n",
    "\n",
    "var_y = float(var_x)\n",
    "\n",
    "print(f'{var_y}는 {type(var_y)}',end='\\n'+'-'*30+'\\n')\n",
    "\n",
    "var_y = str(var_x)\n",
    "\n",
    "print(f'{var_y}는 {type(var_y)}',end='\\n'+'-'*30+'\\n')\n",
    "\n",
    "var_y=bool(var_x)\n",
    "\n",
    "print(f'{var_y}는 {type(var_y)}')\n",
    "\n"
   ]
  },
  {
   "cell_type": "code",
   "execution_count": 14,
   "metadata": {},
   "outputs": [
    {
     "name": "stdout",
     "output_type": "stream",
     "text": [
      "range(-10, 0, 2)는 <class 'range'>\n",
      "------------------------------\n",
      "[-10, -8, -6, -4, -2]는 <class 'list'>\n",
      "------------------------------\n",
      "(-10, -8, -6, -4, -2)는 <class 'tuple'>\n",
      "------------------------------\n",
      "{-10, -8, -6, -4, -2}는 <class 'set'>\n"
     ]
    }
   ],
   "source": [
    "var_x = range(-10,0,2)\n",
    "print(f'{var_x}는 {type(var_x)}',end='\\n'+'-'*30+'\\n')\n",
    "\n",
    "var_y = list(var_x)\n",
    "print(f'{var_y}는 {type(var_y)}',end='\\n'+'-'*30+'\\n')\n",
    "\n",
    "var_y = tuple(var_x) \n",
    "print(f'{var_y}는 {type(var_y)}',end='\\n'+'-'*30+'\\n')\n",
    "\n",
    "var_y = set(var_x)\n",
    "print(f'{var_y}는 {type(var_y)}')"
   ]
  },
  {
   "cell_type": "code",
   "execution_count": 15,
   "metadata": {},
   "outputs": [
    {
     "name": "stdout",
     "output_type": "stream",
     "text": [
      "abcdab는 <class 'str'>\n",
      "------------------------------\n",
      "['a', 'b', 'c', 'd', 'a', 'b']는 <class 'list'>\n",
      "------------------------------\n",
      "('a', 'b', 'c', 'd', 'a', 'b')는 <class 'tuple'>\n",
      "------------------------------\n",
      "{'c', 'b', 'a', 'd'}는 <class 'set'>\n",
      "------------------------------\n"
     ]
    }
   ],
   "source": [
    "var_x = \"abcdab\"\n",
    "\n",
    "print(f'{var_x}는 {type(var_x)}',end='\\n'+'-'*30+'\\n')\n",
    "\n",
    "var_y= list(var_x)\n",
    "print(f'{var_y}는 {type(var_y)}',end='\\n'+'-'*30+'\\n')\n",
    "\n",
    "var_y = tuple(var_x)\n",
    "print(f'{var_y}는 {type(var_y)}',end='\\n'+'-'*30+'\\n')\n",
    "\n",
    "var_y = set(var_x)\n",
    "print(f'{var_y}는 {type(var_y)}',end='\\n'+'-'*30+'\\n')"
   ]
  },
  {
   "cell_type": "markdown",
   "metadata": {},
   "source": [
    "## 데이터 유형 응용"
   ]
  },
  {
   "cell_type": "code",
   "execution_count": 16,
   "metadata": {},
   "outputs": [
    {
     "name": "stdout",
     "output_type": "stream",
     "text": [
      "True\n",
      "True\n",
      "True\n",
      "True\n",
      "True\n",
      "False\n",
      "True\n",
      "False\n",
      "False\n",
      "True\n"
     ]
    }
   ],
   "source": [
    "#bool 의 참 거짓에 대한 응용(탐구)\n",
    "print(bool([1,2,3]))\n",
    "print(bool([0,0,0]))\n",
    "print(bool([0]))\n",
    "print(bool([10]))\n",
    "print(bool((10)))\n",
    "print(bool((0)))\n",
    "print(bool((0,)))\n",
    "print(bool([]))\n",
    "print(bool(''))\n",
    "print(bool(' '))\n",
    "\n",
    "#리스트 안에 아무것도 없으면 false, 따옴표 안에 아무것도 없으면 false(스페이스바 는 True),숫자 0 또한 false\n"
   ]
  }
 ],
 "metadata": {
  "kernelspec": {
   "display_name": "base",
   "language": "python",
   "name": "python3"
  },
  "language_info": {
   "codemirror_mode": {
    "name": "ipython",
    "version": 3
   },
   "file_extension": ".py",
   "mimetype": "text/x-python",
   "name": "python",
   "nbconvert_exporter": "python",
   "pygments_lexer": "ipython3",
   "version": "3.12.9"
  }
 },
 "nbformat": 4,
 "nbformat_minor": 2
}
